{
 "cells": [
  {
   "cell_type": "code",
   "execution_count": 40,
   "id": "c4b69cbc",
   "metadata": {},
   "outputs": [],
   "source": [
    "import pandas as pd"
   ]
  },
  {
   "cell_type": "code",
   "execution_count": 41,
   "id": "aac8a86b",
   "metadata": {},
   "outputs": [],
   "source": [
    "data = pd.read_csv(\"./dsi_final_cleaned.TFs_HMs.txt\", sep ='\\t')"
   ]
  },
  {
   "cell_type": "code",
   "execution_count": 3,
   "id": "95656a6f",
   "metadata": {},
   "outputs": [],
   "source": [
    "data[['Chromosome','Start','End']] = data['Location'].str.split(\":|-\", expand = True)"
   ]
  },
  {
   "cell_type": "code",
   "execution_count": 4,
   "id": "796f4d6b",
   "metadata": {},
   "outputs": [
    {
     "data": {
      "text/plain": [
       "0         False\n",
       "1         False\n",
       "2         False\n",
       "3         False\n",
       "4         False\n",
       "          ...  \n",
       "428059    False\n",
       "428060    False\n",
       "428061    False\n",
       "428062    False\n",
       "428063    False\n",
       "Name: X, Length: 428064, dtype: bool"
      ]
     },
     "execution_count": 4,
     "metadata": {},
     "output_type": "execute_result"
    }
   ],
   "source": [
    "data['X']==True"
   ]
  },
  {
   "cell_type": "code",
   "execution_count": 5,
   "id": "efa73c77",
   "metadata": {},
   "outputs": [
    {
     "data": {
      "text/html": [
       "<div>\n",
       "<style scoped>\n",
       "    .dataframe tbody tr th:only-of-type {\n",
       "        vertical-align: middle;\n",
       "    }\n",
       "\n",
       "    .dataframe tbody tr th {\n",
       "        vertical-align: top;\n",
       "    }\n",
       "\n",
       "    .dataframe thead th {\n",
       "        text-align: right;\n",
       "    }\n",
       "</style>\n",
       "<table border=\"1\" class=\"dataframe\">\n",
       "  <thead>\n",
       "    <tr style=\"text-align: right;\">\n",
       "      <th></th>\n",
       "      <th>Location</th>\n",
       "      <th>BEAF-2</th>\n",
       "      <th>CTCF-1</th>\n",
       "      <th>CondensinI-1</th>\n",
       "      <th>DREF-1</th>\n",
       "      <th>Ez-1</th>\n",
       "      <th>H1-1</th>\n",
       "      <th>H2Bub-1</th>\n",
       "      <th>H3-1</th>\n",
       "      <th>H3K4me2-1</th>\n",
       "      <th>...</th>\n",
       "      <th>Mod</th>\n",
       "      <th>POLS5P</th>\n",
       "      <th>PROseq</th>\n",
       "      <th>RNAseq</th>\n",
       "      <th>TFIIIC</th>\n",
       "      <th>lbf</th>\n",
       "      <th>X</th>\n",
       "      <th>Chromosome</th>\n",
       "      <th>Start</th>\n",
       "      <th>End</th>\n",
       "    </tr>\n",
       "  </thead>\n",
       "  <tbody>\n",
       "    <tr>\n",
       "      <th>352206</th>\n",
       "      <td>X:0-300</td>\n",
       "      <td>-0.295</td>\n",
       "      <td>-1.701</td>\n",
       "      <td>2.851</td>\n",
       "      <td>-1.467</td>\n",
       "      <td>-0.162</td>\n",
       "      <td>-0.567</td>\n",
       "      <td>-0.492</td>\n",
       "      <td>-1.53</td>\n",
       "      <td>-0.277</td>\n",
       "      <td>...</td>\n",
       "      <td>-0.005</td>\n",
       "      <td>-0.354</td>\n",
       "      <td>-0.524</td>\n",
       "      <td>-0.052</td>\n",
       "      <td>-1.620</td>\n",
       "      <td>-0.834</td>\n",
       "      <td>True</td>\n",
       "      <td>X</td>\n",
       "      <td>0</td>\n",
       "      <td>300</td>\n",
       "    </tr>\n",
       "    <tr>\n",
       "      <th>352207</th>\n",
       "      <td>X:300-600</td>\n",
       "      <td>-0.295</td>\n",
       "      <td>-1.701</td>\n",
       "      <td>1.620</td>\n",
       "      <td>-1.467</td>\n",
       "      <td>-0.197</td>\n",
       "      <td>-0.567</td>\n",
       "      <td>-0.492</td>\n",
       "      <td>-1.53</td>\n",
       "      <td>-0.277</td>\n",
       "      <td>...</td>\n",
       "      <td>-0.003</td>\n",
       "      <td>-0.354</td>\n",
       "      <td>-0.524</td>\n",
       "      <td>-0.052</td>\n",
       "      <td>-1.620</td>\n",
       "      <td>-0.834</td>\n",
       "      <td>True</td>\n",
       "      <td>X</td>\n",
       "      <td>300</td>\n",
       "      <td>600</td>\n",
       "    </tr>\n",
       "    <tr>\n",
       "      <th>352208</th>\n",
       "      <td>X:600-900</td>\n",
       "      <td>-0.295</td>\n",
       "      <td>-1.701</td>\n",
       "      <td>0.641</td>\n",
       "      <td>-1.467</td>\n",
       "      <td>-0.193</td>\n",
       "      <td>-0.567</td>\n",
       "      <td>-0.492</td>\n",
       "      <td>-1.53</td>\n",
       "      <td>-0.277</td>\n",
       "      <td>...</td>\n",
       "      <td>-0.566</td>\n",
       "      <td>-0.354</td>\n",
       "      <td>-0.524</td>\n",
       "      <td>-0.052</td>\n",
       "      <td>-1.620</td>\n",
       "      <td>-0.834</td>\n",
       "      <td>True</td>\n",
       "      <td>X</td>\n",
       "      <td>600</td>\n",
       "      <td>900</td>\n",
       "    </tr>\n",
       "    <tr>\n",
       "      <th>352209</th>\n",
       "      <td>X:900-1200</td>\n",
       "      <td>-0.295</td>\n",
       "      <td>-1.701</td>\n",
       "      <td>0.159</td>\n",
       "      <td>-1.467</td>\n",
       "      <td>-0.164</td>\n",
       "      <td>-0.567</td>\n",
       "      <td>-0.492</td>\n",
       "      <td>-1.53</td>\n",
       "      <td>-0.277</td>\n",
       "      <td>...</td>\n",
       "      <td>-0.422</td>\n",
       "      <td>-0.354</td>\n",
       "      <td>-0.524</td>\n",
       "      <td>-0.051</td>\n",
       "      <td>-1.620</td>\n",
       "      <td>-0.834</td>\n",
       "      <td>True</td>\n",
       "      <td>X</td>\n",
       "      <td>900</td>\n",
       "      <td>1200</td>\n",
       "    </tr>\n",
       "    <tr>\n",
       "      <th>352210</th>\n",
       "      <td>X:1200-1500</td>\n",
       "      <td>-0.295</td>\n",
       "      <td>-1.701</td>\n",
       "      <td>-0.347</td>\n",
       "      <td>-1.467</td>\n",
       "      <td>-0.139</td>\n",
       "      <td>-0.567</td>\n",
       "      <td>-0.492</td>\n",
       "      <td>-1.53</td>\n",
       "      <td>-0.277</td>\n",
       "      <td>...</td>\n",
       "      <td>-0.326</td>\n",
       "      <td>-0.354</td>\n",
       "      <td>-0.524</td>\n",
       "      <td>-0.051</td>\n",
       "      <td>-1.620</td>\n",
       "      <td>-0.834</td>\n",
       "      <td>True</td>\n",
       "      <td>X</td>\n",
       "      <td>1200</td>\n",
       "      <td>1500</td>\n",
       "    </tr>\n",
       "    <tr>\n",
       "      <th>...</th>\n",
       "      <td>...</td>\n",
       "      <td>...</td>\n",
       "      <td>...</td>\n",
       "      <td>...</td>\n",
       "      <td>...</td>\n",
       "      <td>...</td>\n",
       "      <td>...</td>\n",
       "      <td>...</td>\n",
       "      <td>...</td>\n",
       "      <td>...</td>\n",
       "      <td>...</td>\n",
       "      <td>...</td>\n",
       "      <td>...</td>\n",
       "      <td>...</td>\n",
       "      <td>...</td>\n",
       "      <td>...</td>\n",
       "      <td>...</td>\n",
       "      <td>...</td>\n",
       "      <td>...</td>\n",
       "      <td>...</td>\n",
       "      <td>...</td>\n",
       "    </tr>\n",
       "    <tr>\n",
       "      <th>426641</th>\n",
       "      <td>X:22421400-22421700</td>\n",
       "      <td>-0.146</td>\n",
       "      <td>1.539</td>\n",
       "      <td>1.095</td>\n",
       "      <td>1.222</td>\n",
       "      <td>-0.059</td>\n",
       "      <td>-0.567</td>\n",
       "      <td>-0.492</td>\n",
       "      <td>-1.53</td>\n",
       "      <td>-0.277</td>\n",
       "      <td>...</td>\n",
       "      <td>0.033</td>\n",
       "      <td>-0.226</td>\n",
       "      <td>-0.503</td>\n",
       "      <td>-0.051</td>\n",
       "      <td>0.436</td>\n",
       "      <td>-0.834</td>\n",
       "      <td>True</td>\n",
       "      <td>X</td>\n",
       "      <td>22421400</td>\n",
       "      <td>22421700</td>\n",
       "    </tr>\n",
       "    <tr>\n",
       "      <th>426642</th>\n",
       "      <td>X:22421700-22422000</td>\n",
       "      <td>-0.155</td>\n",
       "      <td>1.499</td>\n",
       "      <td>-0.347</td>\n",
       "      <td>0.327</td>\n",
       "      <td>-0.194</td>\n",
       "      <td>-0.567</td>\n",
       "      <td>-0.492</td>\n",
       "      <td>-1.53</td>\n",
       "      <td>-0.277</td>\n",
       "      <td>...</td>\n",
       "      <td>0.274</td>\n",
       "      <td>-0.369</td>\n",
       "      <td>-5.546</td>\n",
       "      <td>-0.051</td>\n",
       "      <td>0.287</td>\n",
       "      <td>-0.834</td>\n",
       "      <td>True</td>\n",
       "      <td>X</td>\n",
       "      <td>22421700</td>\n",
       "      <td>22422000</td>\n",
       "    </tr>\n",
       "    <tr>\n",
       "      <th>426643</th>\n",
       "      <td>X:22422000-22422300</td>\n",
       "      <td>-0.043</td>\n",
       "      <td>1.061</td>\n",
       "      <td>-0.347</td>\n",
       "      <td>0.963</td>\n",
       "      <td>-0.208</td>\n",
       "      <td>-0.567</td>\n",
       "      <td>-0.492</td>\n",
       "      <td>-1.53</td>\n",
       "      <td>-0.277</td>\n",
       "      <td>...</td>\n",
       "      <td>-0.144</td>\n",
       "      <td>-0.356</td>\n",
       "      <td>-5.514</td>\n",
       "      <td>-0.051</td>\n",
       "      <td>0.469</td>\n",
       "      <td>-0.834</td>\n",
       "      <td>True</td>\n",
       "      <td>X</td>\n",
       "      <td>22422000</td>\n",
       "      <td>22422300</td>\n",
       "    </tr>\n",
       "    <tr>\n",
       "      <th>426644</th>\n",
       "      <td>X:22422300-22422600</td>\n",
       "      <td>-0.295</td>\n",
       "      <td>-1.222</td>\n",
       "      <td>-0.347</td>\n",
       "      <td>-1.174</td>\n",
       "      <td>0.328</td>\n",
       "      <td>-0.567</td>\n",
       "      <td>-0.492</td>\n",
       "      <td>-1.53</td>\n",
       "      <td>-0.277</td>\n",
       "      <td>...</td>\n",
       "      <td>-0.677</td>\n",
       "      <td>-0.380</td>\n",
       "      <td>-5.546</td>\n",
       "      <td>-0.052</td>\n",
       "      <td>-1.187</td>\n",
       "      <td>-0.834</td>\n",
       "      <td>True</td>\n",
       "      <td>X</td>\n",
       "      <td>22422300</td>\n",
       "      <td>22422600</td>\n",
       "    </tr>\n",
       "    <tr>\n",
       "      <th>426645</th>\n",
       "      <td>X:22422600-22422827</td>\n",
       "      <td>-0.295</td>\n",
       "      <td>-1.701</td>\n",
       "      <td>-0.347</td>\n",
       "      <td>-1.467</td>\n",
       "      <td>0.316</td>\n",
       "      <td>-0.567</td>\n",
       "      <td>-0.492</td>\n",
       "      <td>-1.53</td>\n",
       "      <td>-0.277</td>\n",
       "      <td>...</td>\n",
       "      <td>-0.719</td>\n",
       "      <td>-0.354</td>\n",
       "      <td>-5.546</td>\n",
       "      <td>-0.052</td>\n",
       "      <td>-1.620</td>\n",
       "      <td>-0.834</td>\n",
       "      <td>True</td>\n",
       "      <td>X</td>\n",
       "      <td>22422600</td>\n",
       "      <td>22422827</td>\n",
       "    </tr>\n",
       "  </tbody>\n",
       "</table>\n",
       "<p>74440 rows × 48 columns</p>\n",
       "</div>"
      ],
      "text/plain": [
       "                   Location  BEAF-2  CTCF-1  CondensinI-1  DREF-1   Ez-1  \\\n",
       "352206              X:0-300  -0.295  -1.701         2.851  -1.467 -0.162   \n",
       "352207            X:300-600  -0.295  -1.701         1.620  -1.467 -0.197   \n",
       "352208            X:600-900  -0.295  -1.701         0.641  -1.467 -0.193   \n",
       "352209           X:900-1200  -0.295  -1.701         0.159  -1.467 -0.164   \n",
       "352210          X:1200-1500  -0.295  -1.701        -0.347  -1.467 -0.139   \n",
       "...                     ...     ...     ...           ...     ...    ...   \n",
       "426641  X:22421400-22421700  -0.146   1.539         1.095   1.222 -0.059   \n",
       "426642  X:22421700-22422000  -0.155   1.499        -0.347   0.327 -0.194   \n",
       "426643  X:22422000-22422300  -0.043   1.061        -0.347   0.963 -0.208   \n",
       "426644  X:22422300-22422600  -0.295  -1.222        -0.347  -1.174  0.328   \n",
       "426645  X:22422600-22422827  -0.295  -1.701        -0.347  -1.467  0.316   \n",
       "\n",
       "         H1-1  H2Bub-1  H3-1  H3K4me2-1  ...    Mod  POLS5P  PROseq  RNAseq  \\\n",
       "352206 -0.567   -0.492 -1.53     -0.277  ... -0.005  -0.354  -0.524  -0.052   \n",
       "352207 -0.567   -0.492 -1.53     -0.277  ... -0.003  -0.354  -0.524  -0.052   \n",
       "352208 -0.567   -0.492 -1.53     -0.277  ... -0.566  -0.354  -0.524  -0.052   \n",
       "352209 -0.567   -0.492 -1.53     -0.277  ... -0.422  -0.354  -0.524  -0.051   \n",
       "352210 -0.567   -0.492 -1.53     -0.277  ... -0.326  -0.354  -0.524  -0.051   \n",
       "...       ...      ...   ...        ...  ...    ...     ...     ...     ...   \n",
       "426641 -0.567   -0.492 -1.53     -0.277  ...  0.033  -0.226  -0.503  -0.051   \n",
       "426642 -0.567   -0.492 -1.53     -0.277  ...  0.274  -0.369  -5.546  -0.051   \n",
       "426643 -0.567   -0.492 -1.53     -0.277  ... -0.144  -0.356  -5.514  -0.051   \n",
       "426644 -0.567   -0.492 -1.53     -0.277  ... -0.677  -0.380  -5.546  -0.052   \n",
       "426645 -0.567   -0.492 -1.53     -0.277  ... -0.719  -0.354  -5.546  -0.052   \n",
       "\n",
       "        TFIIIC    lbf     X  Chromosome     Start       End  \n",
       "352206  -1.620 -0.834  True           X         0       300  \n",
       "352207  -1.620 -0.834  True           X       300       600  \n",
       "352208  -1.620 -0.834  True           X       600       900  \n",
       "352209  -1.620 -0.834  True           X       900      1200  \n",
       "352210  -1.620 -0.834  True           X      1200      1500  \n",
       "...        ...    ...   ...         ...       ...       ...  \n",
       "426641   0.436 -0.834  True           X  22421400  22421700  \n",
       "426642   0.287 -0.834  True           X  22421700  22422000  \n",
       "426643   0.469 -0.834  True           X  22422000  22422300  \n",
       "426644  -1.187 -0.834  True           X  22422300  22422600  \n",
       "426645  -1.620 -0.834  True           X  22422600  22422827  \n",
       "\n",
       "[74440 rows x 48 columns]"
      ]
     },
     "execution_count": 5,
     "metadata": {},
     "output_type": "execute_result"
    }
   ],
   "source": [
    "subset = data[data['Chromosome'] == \"X\"]\n",
    "subset \n"
   ]
  },
  {
   "cell_type": "code",
   "execution_count": 6,
   "id": "d2fb09b4",
   "metadata": {},
   "outputs": [
    {
     "data": {
      "text/plain": [
       "Index(['Location', 'BEAF-2', 'CTCF-1', 'CondensinI-1', 'DREF-1', 'Ez-1',\n",
       "       'H1-1', 'H2Bub-1', 'H3-1', 'H3K4me2-1', 'H3K9me3-1', 'H3_3-1',\n",
       "       'H4K20me1-1', 'HA-1', 'L3mbt-1', 'M1BP-1', 'NELF-1', 'Nup98-1',\n",
       "       'Pita-1', 'ZIPIC-1', 'dRing-1', 'ATAC_seq', 'Ash1', 'CBP', 'CP190',\n",
       "       'Chromator', 'Cohesin', 'FAIRE', 'Fs1h', 'GAF', 'H3K27ac', 'H3K36me3',\n",
       "       'H3K4me1', 'H3K9me2', 'H3k27me3', 'HP1', 'MACC', 'Mod', 'POLS5P',\n",
       "       'PROseq', 'RNAseq', 'TFIIIC', 'lbf', 'X', 'Chromosome', 'Start', 'End'],\n",
       "      dtype='object')"
      ]
     },
     "execution_count": 6,
     "metadata": {},
     "output_type": "execute_result"
    }
   ],
   "source": [
    "subset =  subset.drop('CLAMP', axis=1)\n",
    "subset.columns"
   ]
  },
  {
   "cell_type": "code",
   "execution_count": 7,
   "id": "f190ec3f",
   "metadata": {},
   "outputs": [],
   "source": [
    "subset['Chromosome'] = 'chr'+subset['Chromosome']"
   ]
  },
  {
   "cell_type": "code",
   "execution_count": 8,
   "id": "7bbcda43",
   "metadata": {},
   "outputs": [],
   "source": [
    "# subset.reset_index()"
   ]
  },
  {
   "cell_type": "code",
   "execution_count": 9,
   "id": "f964881a",
   "metadata": {},
   "outputs": [],
   "source": [
    "bed_file = subset[['Chromosome','Start','End']]"
   ]
  },
  {
   "cell_type": "code",
   "execution_count": 10,
   "id": "72faa352",
   "metadata": {},
   "outputs": [],
   "source": [
    "bed_file.to_csv(\"X_TFs_HMs.bed\", index = None, header = None, sep = '\\t')"
   ]
  },
  {
   "cell_type": "code",
   "execution_count": 32,
   "id": "e1f5ca0a",
   "metadata": {},
   "outputs": [
    {
     "name": "stderr",
     "output_type": "stream",
     "text": [
      "module: loading 'bedtools/2.31.0'\n"
     ]
    }
   ],
   "source": [
    "%%bash\n",
    "module load bedtools\n",
    "bedtools intersect -a X_TFs_HMs.bed -b dm6_ces1_2.bed -f 0.6 -loj > X_merged_labels.bed "
   ]
  },
  {
   "cell_type": "code",
   "execution_count": 33,
   "id": "be1630e1",
   "metadata": {},
   "outputs": [],
   "source": [
    "labels = pd.read_csv(\"X_merged_labels.bed\", sep =\"\\t\", header = None)"
   ]
  },
  {
   "cell_type": "code",
   "execution_count": 34,
   "id": "6d241156",
   "metadata": {},
   "outputs": [
    {
     "data": {
      "text/html": [
       "<div>\n",
       "<style scoped>\n",
       "    .dataframe tbody tr th:only-of-type {\n",
       "        vertical-align: middle;\n",
       "    }\n",
       "\n",
       "    .dataframe tbody tr th {\n",
       "        vertical-align: top;\n",
       "    }\n",
       "\n",
       "    .dataframe thead th {\n",
       "        text-align: right;\n",
       "    }\n",
       "</style>\n",
       "<table border=\"1\" class=\"dataframe\">\n",
       "  <thead>\n",
       "    <tr style=\"text-align: right;\">\n",
       "      <th></th>\n",
       "      <th>0</th>\n",
       "      <th>1</th>\n",
       "      <th>2</th>\n",
       "      <th>3</th>\n",
       "      <th>4</th>\n",
       "      <th>5</th>\n",
       "      <th>6</th>\n",
       "    </tr>\n",
       "  </thead>\n",
       "  <tbody>\n",
       "    <tr>\n",
       "      <th>0</th>\n",
       "      <td>chrX</td>\n",
       "      <td>0</td>\n",
       "      <td>300</td>\n",
       "      <td>.</td>\n",
       "      <td>-1</td>\n",
       "      <td>-1</td>\n",
       "      <td>.</td>\n",
       "    </tr>\n",
       "    <tr>\n",
       "      <th>1</th>\n",
       "      <td>chrX</td>\n",
       "      <td>300</td>\n",
       "      <td>600</td>\n",
       "      <td>.</td>\n",
       "      <td>-1</td>\n",
       "      <td>-1</td>\n",
       "      <td>.</td>\n",
       "    </tr>\n",
       "    <tr>\n",
       "      <th>2</th>\n",
       "      <td>chrX</td>\n",
       "      <td>600</td>\n",
       "      <td>900</td>\n",
       "      <td>.</td>\n",
       "      <td>-1</td>\n",
       "      <td>-1</td>\n",
       "      <td>.</td>\n",
       "    </tr>\n",
       "    <tr>\n",
       "      <th>3</th>\n",
       "      <td>chrX</td>\n",
       "      <td>900</td>\n",
       "      <td>1200</td>\n",
       "      <td>.</td>\n",
       "      <td>-1</td>\n",
       "      <td>-1</td>\n",
       "      <td>.</td>\n",
       "    </tr>\n",
       "    <tr>\n",
       "      <th>4</th>\n",
       "      <td>chrX</td>\n",
       "      <td>1200</td>\n",
       "      <td>1500</td>\n",
       "      <td>.</td>\n",
       "      <td>-1</td>\n",
       "      <td>-1</td>\n",
       "      <td>.</td>\n",
       "    </tr>\n",
       "    <tr>\n",
       "      <th>...</th>\n",
       "      <td>...</td>\n",
       "      <td>...</td>\n",
       "      <td>...</td>\n",
       "      <td>...</td>\n",
       "      <td>...</td>\n",
       "      <td>...</td>\n",
       "      <td>...</td>\n",
       "    </tr>\n",
       "    <tr>\n",
       "      <th>74435</th>\n",
       "      <td>chrX</td>\n",
       "      <td>22421400</td>\n",
       "      <td>22421700</td>\n",
       "      <td>.</td>\n",
       "      <td>-1</td>\n",
       "      <td>-1</td>\n",
       "      <td>.</td>\n",
       "    </tr>\n",
       "    <tr>\n",
       "      <th>74436</th>\n",
       "      <td>chrX</td>\n",
       "      <td>22421700</td>\n",
       "      <td>22422000</td>\n",
       "      <td>.</td>\n",
       "      <td>-1</td>\n",
       "      <td>-1</td>\n",
       "      <td>.</td>\n",
       "    </tr>\n",
       "    <tr>\n",
       "      <th>74437</th>\n",
       "      <td>chrX</td>\n",
       "      <td>22422000</td>\n",
       "      <td>22422300</td>\n",
       "      <td>.</td>\n",
       "      <td>-1</td>\n",
       "      <td>-1</td>\n",
       "      <td>.</td>\n",
       "    </tr>\n",
       "    <tr>\n",
       "      <th>74438</th>\n",
       "      <td>chrX</td>\n",
       "      <td>22422300</td>\n",
       "      <td>22422600</td>\n",
       "      <td>.</td>\n",
       "      <td>-1</td>\n",
       "      <td>-1</td>\n",
       "      <td>.</td>\n",
       "    </tr>\n",
       "    <tr>\n",
       "      <th>74439</th>\n",
       "      <td>chrX</td>\n",
       "      <td>22422600</td>\n",
       "      <td>22422827</td>\n",
       "      <td>.</td>\n",
       "      <td>-1</td>\n",
       "      <td>-1</td>\n",
       "      <td>.</td>\n",
       "    </tr>\n",
       "  </tbody>\n",
       "</table>\n",
       "<p>74440 rows × 7 columns</p>\n",
       "</div>"
      ],
      "text/plain": [
       "          0         1         2  3  4  5  6\n",
       "0      chrX         0       300  . -1 -1  .\n",
       "1      chrX       300       600  . -1 -1  .\n",
       "2      chrX       600       900  . -1 -1  .\n",
       "3      chrX       900      1200  . -1 -1  .\n",
       "4      chrX      1200      1500  . -1 -1  .\n",
       "...     ...       ...       ... .. .. .. ..\n",
       "74435  chrX  22421400  22421700  . -1 -1  .\n",
       "74436  chrX  22421700  22422000  . -1 -1  .\n",
       "74437  chrX  22422000  22422300  . -1 -1  .\n",
       "74438  chrX  22422300  22422600  . -1 -1  .\n",
       "74439  chrX  22422600  22422827  . -1 -1  .\n",
       "\n",
       "[74440 rows x 7 columns]"
      ]
     },
     "execution_count": 34,
     "metadata": {},
     "output_type": "execute_result"
    }
   ],
   "source": [
    "labels"
   ]
  },
  {
   "cell_type": "code",
   "execution_count": 35,
   "id": "29efaea4",
   "metadata": {},
   "outputs": [],
   "source": [
    "condition = (labels[6] !='.')"
   ]
  },
  {
   "cell_type": "code",
   "execution_count": 36,
   "id": "87512249",
   "metadata": {},
   "outputs": [
    {
     "data": {
      "text/plain": [
       "Counter({False: 74072, True: 368})"
      ]
     },
     "execution_count": 36,
     "metadata": {},
     "output_type": "execute_result"
    }
   ],
   "source": [
    "from collections import Counter\n",
    "Counter(condition)"
   ]
  },
  {
   "cell_type": "code",
   "execution_count": 37,
   "id": "af16404b",
   "metadata": {},
   "outputs": [],
   "source": [
    "import numpy as np"
   ]
  },
  {
   "cell_type": "code",
   "execution_count": 38,
   "id": "23fcca84",
   "metadata": {},
   "outputs": [],
   "source": [
    "subset['label'] =  np.where(condition, 1, 0)\n"
   ]
  },
  {
   "cell_type": "code",
   "execution_count": 39,
   "id": "23dfc659",
   "metadata": {},
   "outputs": [],
   "source": [
    "subset = subset.reset_index(drop = True)"
   ]
  },
  {
   "cell_type": "code",
   "execution_count": 19,
   "id": "8c38f0e2",
   "metadata": {},
   "outputs": [],
   "source": [
    "subset.to_csv(\"subset_X_labels.tsv\", sep =\"\\t\", header = True, index = False)"
   ]
  },
  {
   "cell_type": "code",
   "execution_count": 20,
   "id": "75f82a1c",
   "metadata": {},
   "outputs": [],
   "source": [
    "subset_nolabel = np.array(subset.iloc[:, 1:-5])"
   ]
  },
  {
   "cell_type": "code",
   "execution_count": null,
   "id": "7ee594c1",
   "metadata": {},
   "outputs": [],
   "source": []
  },
  {
   "cell_type": "code",
   "execution_count": 21,
   "id": "3279b846",
   "metadata": {},
   "outputs": [
    {
     "data": {
      "text/plain": [
       "0        0\n",
       "1        0\n",
       "2        0\n",
       "3        0\n",
       "4        0\n",
       "        ..\n",
       "74394    0\n",
       "74395    0\n",
       "74396    0\n",
       "74397    0\n",
       "74398    0\n",
       "Name: label, Length: 74399, dtype: int64"
      ]
     },
     "execution_count": 21,
     "metadata": {},
     "output_type": "execute_result"
    }
   ],
   "source": [
    "# Define the number of rows you want in each submatrix\n",
    "num_rows_per_submatrix = 41\n",
    "\n",
    "# Extract 50 consecutive rows as submatrices\n",
    "submatrices = np.stack([subset_nolabel[i:i+num_rows_per_submatrix, :] for i in range(0, subset_nolabel.shape[0]-num_rows_per_submatrix)])\n",
    "\n",
    "labels_subset = subset['label'][20:-21]\n",
    "\n",
    "labels_subset.reset_index(drop = True)"
   ]
  },
  {
   "cell_type": "code",
   "execution_count": 22,
   "id": "9a8d86e4",
   "metadata": {},
   "outputs": [
    {
     "data": {
      "text/plain": [
       "(74399, 41, 42)"
      ]
     },
     "execution_count": 22,
     "metadata": {},
     "output_type": "execute_result"
    }
   ],
   "source": [
    "### matrix of all data samples \n",
    "\n",
    "submatrices.shape"
   ]
  },
  {
   "cell_type": "code",
   "execution_count": 23,
   "id": "0c260c2e",
   "metadata": {},
   "outputs": [],
   "source": [
    "data = np.asarray(submatrices)"
   ]
  },
  {
   "cell_type": "code",
   "execution_count": 24,
   "id": "3b7a57e0",
   "metadata": {},
   "outputs": [
    {
     "data": {
      "text/plain": [
       "(74399,)"
      ]
     },
     "execution_count": 24,
     "metadata": {},
     "output_type": "execute_result"
    }
   ],
   "source": [
    "full_data = pd.read_csv(\"subset_X_labels.tsv\", sep =\"\\t\")\n",
    "labels = full_data['label']\n",
    "labels = np.asarray(labels)[:-num_rows_per_submatrix]\n",
    "labels.shape"
   ]
  },
  {
   "cell_type": "code",
   "execution_count": 25,
   "id": "89d2108b",
   "metadata": {},
   "outputs": [],
   "source": [
    "# positive_indices = np.where(labels == 1)[0]\n",
    "# new_labels = np.zeros(len(labels))\n",
    "\n",
    "# for pos_i in positive_indices:\n",
    "#     new_labels[pos_i:pos_i+52] = 1"
   ]
  },
  {
   "cell_type": "code",
   "execution_count": 31,
   "id": "47d8e030",
   "metadata": {},
   "outputs": [
    {
     "data": {
      "text/plain": [
       "(74399, 41, 42)"
      ]
     },
     "execution_count": 31,
     "metadata": {},
     "output_type": "execute_result"
    }
   ],
   "source": [
    "data.shape"
   ]
  },
  {
   "cell_type": "code",
   "execution_count": 26,
   "id": "6315da6b",
   "metadata": {},
   "outputs": [
    {
     "data": {
      "text/plain": [
       "((74399, 41, 42), (74399,))"
      ]
     },
     "execution_count": 26,
     "metadata": {},
     "output_type": "execute_result"
    }
   ],
   "source": [
    "data.shape, labels.shape"
   ]
  },
  {
   "cell_type": "code",
   "execution_count": 27,
   "id": "c893399b",
   "metadata": {},
   "outputs": [],
   "source": [
    "# Full Dataset Exporting\n",
    "np.save(\"X_data.npy\", data)\n",
    "np.save(\"X_labels.npy\", labels)"
   ]
  },
  {
   "cell_type": "code",
   "execution_count": 28,
   "id": "a70f350b",
   "metadata": {},
   "outputs": [
    {
     "data": {
      "text/plain": [
       "Counter({0: 74126, 1: 273})"
      ]
     },
     "execution_count": 28,
     "metadata": {},
     "output_type": "execute_result"
    }
   ],
   "source": [
    "from collections import Counter\n",
    "Counter(labels)"
   ]
  },
  {
   "cell_type": "markdown",
   "id": "48e58eab",
   "metadata": {},
   "source": [
    "## Sample Small Toy Dataset to Run Locally for Model Verification"
   ]
  },
  {
   "cell_type": "code",
   "execution_count": 29,
   "id": "13b81936",
   "metadata": {},
   "outputs": [
    {
     "ename": "NameError",
     "evalue": "name 'new_labels' is not defined",
     "output_type": "error",
     "traceback": [
      "\u001b[0;31m---------------------------------------------------------------------------\u001b[0m",
      "\u001b[0;31mNameError\u001b[0m                                 Traceback (most recent call last)",
      "Cell \u001b[0;32mIn[29], line 7\u001b[0m\n\u001b[1;32m      5\u001b[0m sampled_indices \u001b[38;5;241m=\u001b[39m random\u001b[38;5;241m.\u001b[39msample(\u001b[38;5;28mrange\u001b[39m(\u001b[38;5;241m0\u001b[39m, \u001b[38;5;28mlen\u001b[39m(data)), \u001b[38;5;241m3000\u001b[39m)\n\u001b[1;32m      6\u001b[0m sampled_data \u001b[38;5;241m=\u001b[39m data[sampled_indices, :, :]\n\u001b[0;32m----> 7\u001b[0m sampled_labels \u001b[38;5;241m=\u001b[39m new_labels[sampled_indices]\n\u001b[1;32m      9\u001b[0m \u001b[38;5;66;03m# Sampled Dataset Exporting\u001b[39;00m\n\u001b[1;32m     10\u001b[0m np\u001b[38;5;241m.\u001b[39msave(\u001b[38;5;124m\"\u001b[39m\u001b[38;5;124mX_sampled_data.npy\u001b[39m\u001b[38;5;124m\"\u001b[39m, sampled_data)\n",
      "\u001b[0;31mNameError\u001b[0m: name 'new_labels' is not defined"
     ]
    }
   ],
   "source": [
    "## Sample 3000 data points from the full dataset\n",
    "import random\n",
    "random.seed(123)\n",
    "\n",
    "sampled_indices = random.sample(range(0, len(data)), 3000)\n",
    "sampled_data = data[sampled_indices, :, :]\n",
    "sampled_labels = new_labels[sampled_indices]\n",
    "\n",
    "# Sampled Dataset Exporting\n",
    "np.save(\"X_sampled_data.npy\", sampled_data)\n",
    "np.save(\"X_sampled_labels.npy\", sampled_labels)"
   ]
  },
  {
   "cell_type": "code",
   "execution_count": null,
   "id": "994987b4",
   "metadata": {},
   "outputs": [],
   "source": [
    "Counter(data['Chromosome'].to_list())"
   ]
  },
  {
   "cell_type": "code",
   "execution_count": null,
   "id": "efa47344",
   "metadata": {},
   "outputs": [],
   "source": [
    "grouped = data.groupby('Chromosome')\n"
   ]
  },
  {
   "cell_type": "code",
   "execution_count": null,
   "id": "11330228",
   "metadata": {},
   "outputs": [],
   "source": [
    "for category,group in grouped:\n",
    "    print(category)\n",
    "    print#(group)\n",
    "    print(Counter(group['X']))"
   ]
  }
 ],
 "metadata": {
  "kernelspec": {
   "display_name": "Python 3 (ipykernel)",
   "language": "python",
   "name": "python3"
  },
  "language_info": {
   "codemirror_mode": {
    "name": "ipython",
    "version": 3
   },
   "file_extension": ".py",
   "mimetype": "text/x-python",
   "name": "python",
   "nbconvert_exporter": "python",
   "pygments_lexer": "ipython3",
   "version": "3.8.18"
  }
 },
 "nbformat": 4,
 "nbformat_minor": 5
}
