{
 "cells": [
  {
   "cell_type": "markdown",
   "metadata": {},
   "source": [
    "# Loading in peak files"
   ]
  },
  {
   "cell_type": "code",
   "execution_count": 2,
   "metadata": {},
   "outputs": [],
   "source": [
    "import pandas as pd\n",
    "\n",
    "peaks = pd.read_csv('./peaks/GSE39271_S2_GFPi_CLAMP_IP.consensus_peaks.bed',sep=\"\\t\",header=None)"
   ]
  },
  {
   "cell_type": "code",
   "execution_count": 3,
   "metadata": {},
   "outputs": [],
   "source": [
    "peaks['peak_size'] = peaks[2] - peaks[1]"
   ]
  },
  {
   "cell_type": "code",
   "execution_count": 4,
   "metadata": {},
   "outputs": [
    {
     "name": "stderr",
     "output_type": "stream",
     "text": [
      "/Users/josephaguilera/opt/anaconda3/envs/ucsc/lib/python3.10/site-packages/seaborn/_oldcore.py:1498: FutureWarning: is_categorical_dtype is deprecated and will be removed in a future version. Use isinstance(dtype, CategoricalDtype) instead\n",
      "  if pd.api.types.is_categorical_dtype(vector):\n",
      "/Users/josephaguilera/opt/anaconda3/envs/ucsc/lib/python3.10/site-packages/seaborn/_oldcore.py:1119: FutureWarning: use_inf_as_na option is deprecated and will be removed in a future version. Convert inf values to NaN before operating instead.\n",
      "  with pd.option_context('mode.use_inf_as_na', True):\n"
     ]
    },
    {
     "data": {
      "image/png": "[encoded data removed]",
      "text/plain": [
       "<Figure size 640x480 with 1 Axes>"
      ]
     },
     "metadata": {},
     "output_type": "display_data"
    }
   ],
   "source": [
    "import seaborn as sns\n",
    "import matplotlib.pyplot as plt\n",
    "\n",
    "plt.figure()\n",
    "sns.histplot(\n",
    "    data=peaks,\n",
    "    x='peak_size'\n",
    ")\n",
    "plt.vlines(x=500,ymin=0,ymax=550,colors='red')\n",
    "plt.title('Peak Size Distribution')\n",
    "plt.show()"
   ]
  },
  {
   "cell_type": "markdown",
   "metadata": {},
   "source": [
    "# Preprocessing bed files"
   ]
  },
  {
   "cell_type": "markdown",
   "metadata": {},
   "source": [
    "### Storing peak full paths and prefix names"
   ]
  },
  {
   "cell_type": "code",
   "execution_count": 104,
   "metadata": {},
   "outputs": [
    {
     "name": "stdout",
     "output_type": "stream",
     "text": [
      "[['./peaks_fasta/GSE39271_Kc_GFPi_CLAMP.consensus_peaks.fasta', 'GSE39271_Kc_GFPi_CLAMP'], ['./peaks_fasta/GSE39271_S2_GFPi_CLAMP_IP.consensus_peaks.fasta', 'GSE39271_S2_GFPi_CLAMP_IP'], ['./peaks_fasta/GSE39271_S2_MSL2i_CLAMP_IP.consensus_peaks.fasta', 'GSE39271_S2_MSL2i_CLAMP_IP']]\n"
     ]
    }
   ],
   "source": [
    "# Construct lists of file paths and corresponding prefixes\n",
    "import os\n",
    "\n",
    "sequence_dir = \"./peaks_fasta/\"\n",
    "# sequence_dir = \"/Volumes/JOE_LOUIS/peaks.bedgraph/bed_cleaned/sequences\"\n",
    "\n",
    "dataset_files = []\n",
    "# List all files in directory\n",
    "for file_name in os.listdir(sequence_dir):\n",
    "\n",
    "    # helping to store file paths and prefix into final list\n",
    "    temp = []\n",
    "\n",
    "    # Full Path to file\n",
    "    file_path = os.path.join(sequence_dir,file_name)\n",
    "    \n",
    "    # Generating the prefix name\n",
    "    prefix_name = file_name.split('.')[0]\n",
    "\n",
    "    # storing file paths and prefixes into dataset files\n",
    "    temp.extend([file_path,prefix_name])\n",
    "    dataset_files.append(temp)\n",
    "\n",
    "print(dataset_files)    "
   ]
  },
  {
   "cell_type": "markdown",
   "metadata": {},
   "source": [
    "### Creating a dictionary of chip-seq specific dataframes"
   ]
  },
  {
   "cell_type": "code",
   "execution_count": 105,
   "metadata": {},
   "outputs": [],
   "source": [
    "import pandas as pd\n",
    "from Bio import SeqIO\n",
    "\n",
    "def fasta_to_dataframe(fasta_file_path):\n",
    "    # Creating an empty DataFrame with columns 'ID' and 'Sequence'\n",
    "    df = pd.DataFrame(columns=['ID', 'Sequence'])\n",
    "    \n",
    "    # Reading sequences from the FASTA file and adding them to the DataFrame\n",
    "    with open(fasta_file_path, 'r') as fasta_file:\n",
    "        for record in SeqIO.parse(fasta_file, 'fasta'):\n",
    "            temp_df = pd.DataFrame({'ID': [record.id], 'Sequence': str(record.seq)})\n",
    "            df = pd.concat([df,temp_df],ignore_index=True)\n",
    "    return df\n",
    "\n",
    "\n",
    "# To store dataset specific peak info\n",
    "dataset_peak_info = {}\n",
    "\n",
    "for peak_info in dataset_files:\n",
    "    # storing peak information\n",
    "    full_path = peak_info[0]\n",
    "    prefix_name = peak_info[1]\n",
    "\n",
    "    # Converting FASTA sequences to DataFrame\n",
    "    fasta_df = fasta_to_dataframe(full_path)\n",
    "    fasta_df.insert(0,\"Prefix\",prefix_name)\n",
    "\n",
    "    fasta_df_updated = []\n",
    "    for row in fasta_df.index:\n",
    "        temp = []\n",
    "        id = fasta_df.loc[row,\"ID\"]\n",
    "        \n",
    "        # more seq information\n",
    "        chr,start,stop = id.split(':')[0],int(id.split(':')[1].split('-')[0]),int(id.split(':')[1].split('-')[1])\n",
    "        seq_length = stop - start\n",
    "        \n",
    "        # X-chromosome status\n",
    "        chrX_status = False\n",
    "        if chr.startswith(\"chrX\"):\n",
    "            chrX_status = True\n",
    "        \n",
    "        # storing updated information\n",
    "        temp.extend([fasta_df.loc[row,\"Prefix\"],chr,start,stop,seq_length,chrX_status,fasta_df.loc[row,\"Sequence\"]])\n",
    "        fasta_df_updated.append(temp)\n",
    "\n",
    "    # storing chip-seq dataset in dictionary\n",
    "    dataset_peak_info[prefix_name] = pd.DataFrame(fasta_df_updated,columns=[\"prefix\",\"chr\",\"start\",\"stop\",\"seq_length\",\"chrX_status\",\"full_sequence\"])"
   ]
  },
  {
   "cell_type": "markdown",
   "metadata": {},
   "source": [
    "### Below is a example of the value of each key"
   ]
  },
  {
   "cell_type": "code",
   "execution_count": 106,
   "metadata": {},
   "outputs": [
    {
     "data": {
      "text/html": [
       "<div>\n",
       "<style scoped>\n",
       "    .dataframe tbody tr th:only-of-type {\n",
       "        vertical-align: middle;\n",
       "    }\n",
       "\n",
       "    .dataframe tbody tr th {\n",
       "        vertical-align: top;\n",
       "    }\n",
       "\n",
       "    .dataframe thead th {\n",
       "        text-align: right;\n",
       "    }\n",
       "</style>\n",
       "<table border=\"1\" class=\"dataframe\">\n",
       "  <thead>\n",
       "    <tr style=\"text-align: right;\">\n",
       "      <th></th>\n",
       "      <th>prefix</th>\n",
       "      <th>chr</th>\n",
       "      <th>start</th>\n",
       "      <th>stop</th>\n",
       "      <th>seq_length</th>\n",
       "      <th>chrX_status</th>\n",
       "      <th>full_sequence</th>\n",
       "    </tr>\n",
       "  </thead>\n",
       "  <tbody>\n",
       "    <tr>\n",
       "      <th>0</th>\n",
       "      <td>GSE39271_S2_GFPi_CLAMP_IP</td>\n",
       "      <td>chr2L</td>\n",
       "      <td>5059</td>\n",
       "      <td>6067</td>\n",
       "      <td>1008</td>\n",
       "      <td>False</td>\n",
       "      <td>gcagaacagatatttagattgcctctcattttctctcccatattat...</td>\n",
       "    </tr>\n",
       "    <tr>\n",
       "      <th>1</th>\n",
       "      <td>GSE39271_S2_GFPi_CLAMP_IP</td>\n",
       "      <td>chr2L</td>\n",
       "      <td>66704</td>\n",
       "      <td>67126</td>\n",
       "      <td>422</td>\n",
       "      <td>False</td>\n",
       "      <td>AAACTGGTGGAAAGAAAAACCAGCCGACTACATTTACGCCATTGAG...</td>\n",
       "    </tr>\n",
       "    <tr>\n",
       "      <th>2</th>\n",
       "      <td>GSE39271_S2_GFPi_CLAMP_IP</td>\n",
       "      <td>chr2L</td>\n",
       "      <td>67185</td>\n",
       "      <td>67461</td>\n",
       "      <td>276</td>\n",
       "      <td>False</td>\n",
       "      <td>TTTCGAGAAAAGAATAAATGGAAAAATACTATTTTCCACAAAAACA...</td>\n",
       "    </tr>\n",
       "    <tr>\n",
       "      <th>3</th>\n",
       "      <td>GSE39271_S2_GFPi_CLAMP_IP</td>\n",
       "      <td>chr2L</td>\n",
       "      <td>72043</td>\n",
       "      <td>72838</td>\n",
       "      <td>795</td>\n",
       "      <td>False</td>\n",
       "      <td>GCCAGGATGAAACCTATCAGAGGTTTAAAAATGAGGATGTAAGTTT...</td>\n",
       "    </tr>\n",
       "    <tr>\n",
       "      <th>4</th>\n",
       "      <td>GSE39271_S2_GFPi_CLAMP_IP</td>\n",
       "      <td>chr2L</td>\n",
       "      <td>72963</td>\n",
       "      <td>73556</td>\n",
       "      <td>593</td>\n",
       "      <td>False</td>\n",
       "      <td>GAAATGAATTTAAAGTGCGTAATCGGGATACTATAGCGCAAATACT...</td>\n",
       "    </tr>\n",
       "  </tbody>\n",
       "</table>\n",
       "</div>"
      ],
      "text/plain": [
       "                      prefix    chr  start   stop  seq_length  chrX_status  \\\n",
       "0  GSE39271_S2_GFPi_CLAMP_IP  chr2L   5059   6067        1008        False   \n",
       "1  GSE39271_S2_GFPi_CLAMP_IP  chr2L  66704  67126         422        False   \n",
       "2  GSE39271_S2_GFPi_CLAMP_IP  chr2L  67185  67461         276        False   \n",
       "3  GSE39271_S2_GFPi_CLAMP_IP  chr2L  72043  72838         795        False   \n",
       "4  GSE39271_S2_GFPi_CLAMP_IP  chr2L  72963  73556         593        False   \n",
       "\n",
       "                                       full_sequence  \n",
       "0  gcagaacagatatttagattgcctctcattttctctcccatattat...  \n",
       "1  AAACTGGTGGAAAGAAAAACCAGCCGACTACATTTACGCCATTGAG...  \n",
       "2  TTTCGAGAAAAGAATAAATGGAAAAATACTATTTTCCACAAAAACA...  \n",
       "3  GCCAGGATGAAACCTATCAGAGGTTTAAAAATGAGGATGTAAGTTT...  \n",
       "4  GAAATGAATTTAAAGTGCGTAATCGGGATACTATAGCGCAAATACT...  "
      ]
     },
     "execution_count": 106,
     "metadata": {},
     "output_type": "execute_result"
    }
   ],
   "source": [
    "# sanity check\n",
    "dataset_peak_info['GSE39271_S2_GFPi_CLAMP_IP'].head()"
   ]
  },
  {
   "cell_type": "code",
   "execution_count": 107,
   "metadata": {},
   "outputs": [
    {
     "data": {
      "text/html": [
       "<div>\n",
       "<style scoped>\n",
       "    .dataframe tbody tr th:only-of-type {\n",
       "        vertical-align: middle;\n",
       "    }\n",
       "\n",
       "    .dataframe tbody tr th {\n",
       "        vertical-align: top;\n",
       "    }\n",
       "\n",
       "    .dataframe thead th {\n",
       "        text-align: right;\n",
       "    }\n",
       "</style>\n",
       "<table border=\"1\" class=\"dataframe\">\n",
       "  <thead>\n",
       "    <tr style=\"text-align: right;\">\n",
       "      <th></th>\n",
       "      <th>prefix</th>\n",
       "      <th>chr</th>\n",
       "      <th>start</th>\n",
       "      <th>stop</th>\n",
       "      <th>seq_length</th>\n",
       "      <th>chrX_status</th>\n",
       "      <th>full_sequence</th>\n",
       "    </tr>\n",
       "  </thead>\n",
       "  <tbody>\n",
       "    <tr>\n",
       "      <th>0</th>\n",
       "      <td>GSE39271_Kc_GFPi_CLAMP</td>\n",
       "      <td>chr2L</td>\n",
       "      <td>66719</td>\n",
       "      <td>67472</td>\n",
       "      <td>753</td>\n",
       "      <td>False</td>\n",
       "      <td>AAAACCAGCCGACTACATTTACGCCATTGAGGCCACATGGATAGAG...</td>\n",
       "    </tr>\n",
       "    <tr>\n",
       "      <th>1</th>\n",
       "      <td>GSE39271_Kc_GFPi_CLAMP</td>\n",
       "      <td>chr2L</td>\n",
       "      <td>72315</td>\n",
       "      <td>72836</td>\n",
       "      <td>521</td>\n",
       "      <td>False</td>\n",
       "      <td>ATCTCGGGGTTGATAAAAAGTATTGAGCTATAGGTGGCCTCGGTCA...</td>\n",
       "    </tr>\n",
       "    <tr>\n",
       "      <th>2</th>\n",
       "      <td>GSE39271_Kc_GFPi_CLAMP</td>\n",
       "      <td>chr2L</td>\n",
       "      <td>72951</td>\n",
       "      <td>73468</td>\n",
       "      <td>517</td>\n",
       "      <td>False</td>\n",
       "      <td>AGGTGGTGGATGGAAATGAATTTAAAGTGCGTAATCGGGATACTAT...</td>\n",
       "    </tr>\n",
       "    <tr>\n",
       "      <th>3</th>\n",
       "      <td>GSE39271_Kc_GFPi_CLAMP</td>\n",
       "      <td>chr2L</td>\n",
       "      <td>107829</td>\n",
       "      <td>108346</td>\n",
       "      <td>517</td>\n",
       "      <td>False</td>\n",
       "      <td>AAAACCACAGTGAGTATAAAATAAAGGATCTGGATCTAGATTCACT...</td>\n",
       "    </tr>\n",
       "    <tr>\n",
       "      <th>4</th>\n",
       "      <td>GSE39271_Kc_GFPi_CLAMP</td>\n",
       "      <td>chr2L</td>\n",
       "      <td>109098</td>\n",
       "      <td>109448</td>\n",
       "      <td>350</td>\n",
       "      <td>False</td>\n",
       "      <td>ATTTGCACGACTTGAACAGAGGCTGAGAACGGGAAGAAGAGCTAGT...</td>\n",
       "    </tr>\n",
       "  </tbody>\n",
       "</table>\n",
       "</div>"
      ],
      "text/plain": [
       "                   prefix    chr   start    stop  seq_length  chrX_status  \\\n",
       "0  GSE39271_Kc_GFPi_CLAMP  chr2L   66719   67472         753        False   \n",
       "1  GSE39271_Kc_GFPi_CLAMP  chr2L   72315   72836         521        False   \n",
       "2  GSE39271_Kc_GFPi_CLAMP  chr2L   72951   73468         517        False   \n",
       "3  GSE39271_Kc_GFPi_CLAMP  chr2L  107829  108346         517        False   \n",
       "4  GSE39271_Kc_GFPi_CLAMP  chr2L  109098  109448         350        False   \n",
       "\n",
       "                                       full_sequence  \n",
       "0  AAAACCAGCCGACTACATTTACGCCATTGAGGCCACATGGATAGAG...  \n",
       "1  ATCTCGGGGTTGATAAAAAGTATTGAGCTATAGGTGGCCTCGGTCA...  \n",
       "2  AGGTGGTGGATGGAAATGAATTTAAAGTGCGTAATCGGGATACTAT...  \n",
       "3  AAAACCACAGTGAGTATAAAATAAAGGATCTGGATCTAGATTCACT...  \n",
       "4  ATTTGCACGACTTGAACAGAGGCTGAGAACGGGAAGAAGAGCTAGT...  "
      ]
     },
     "execution_count": 107,
     "metadata": {},
     "output_type": "execute_result"
    }
   ],
   "source": [
    "dataset_peak_info['GSE39271_Kc_GFPi_CLAMP'].head()"
   ]
  },
  {
   "cell_type": "markdown",
   "metadata": {},
   "source": [
    "### Finding center of the peak and collecting 250bp flanking bps"
   ]
  },
  {
   "cell_type": "code",
   "execution_count": 108,
   "metadata": {},
   "outputs": [],
   "source": [
    "from Bio.Seq import Seq\n",
    "\n",
    "def extract_center_subsequence(sequence_str, flanking_bp=250):\n",
    "    # Creating a BioPython sequence object\n",
    "    sequence = Seq(sequence_str)\n",
    "    sequence = sequence.upper()\n",
    "    \n",
    "    # Finding the center position\n",
    "    center_index = len(sequence) // 2\n",
    "    \n",
    "    # Calculating the start and end indices for the subsequence\n",
    "    start_index = max(0, center_index - flanking_bp)\n",
    "    end_index = min(len(sequence), center_index + flanking_bp + 1)\n",
    "    \n",
    "    # Extracting the subsequence\n",
    "    subsequence = sequence[start_index:end_index]\n",
    "    \n",
    "    # padding sequences less than 500 bp\n",
    "    while len(subsequence) < 501:\n",
    "        subsequence+=\"N\"\n",
    "    \n",
    "    return subsequence\n",
    "\n",
    "\n",
    "for df in dataset_peak_info.keys():\n",
    "\n",
    "    full_sequence_col = dataset_peak_info[df]['full_sequence']\n",
    "    \n",
    "    sub_seq_subsets = pd.DataFrame()\n",
    "    for full_seq in full_sequence_col:\n",
    "        \n",
    "        sub_seq = extract_center_subsequence(full_seq)\n",
    "        sub_seq_subsets = pd.concat([sub_seq_subsets,pd.DataFrame([str(sub_seq)])],ignore_index=True)\n",
    "    \n",
    "    dataset_peak_info[df]['500bp_sequence'] = sub_seq_subsets"
   ]
  },
  {
   "cell_type": "markdown",
   "metadata": {},
   "source": [
    "### Each key would hold the dataset specific sequences & info for labeling"
   ]
  },
  {
   "cell_type": "code",
   "execution_count": 109,
   "metadata": {},
   "outputs": [
    {
     "data": {
      "text/html": [
       "<div>\n",
       "<style scoped>\n",
       "    .dataframe tbody tr th:only-of-type {\n",
       "        vertical-align: middle;\n",
       "    }\n",
       "\n",
       "    .dataframe tbody tr th {\n",
       "        vertical-align: top;\n",
       "    }\n",
       "\n",
       "    .dataframe thead th {\n",
       "        text-align: right;\n",
       "    }\n",
       "</style>\n",
       "<table border=\"1\" class=\"dataframe\">\n",
       "  <thead>\n",
       "    <tr style=\"text-align: right;\">\n",
       "      <th></th>\n",
       "      <th>prefix</th>\n",
       "      <th>chr</th>\n",
       "      <th>start</th>\n",
       "      <th>stop</th>\n",
       "      <th>seq_length</th>\n",
       "      <th>chrX_status</th>\n",
       "      <th>full_sequence</th>\n",
       "      <th>500bp_sequence</th>\n",
       "    </tr>\n",
       "  </thead>\n",
       "  <tbody>\n",
       "    <tr>\n",
       "      <th>0</th>\n",
       "      <td>GSE39271_S2_GFPi_CLAMP_IP</td>\n",
       "      <td>chr2L</td>\n",
       "      <td>5059</td>\n",
       "      <td>6067</td>\n",
       "      <td>1008</td>\n",
       "      <td>False</td>\n",
       "      <td>gcagaacagatatttagattgcctctcattttctctcccatattat...</td>\n",
       "      <td>AGAGTGGTGCCAACATATTGTGCTCTTCGATTTTTTGGCAACCCAA...</td>\n",
       "    </tr>\n",
       "    <tr>\n",
       "      <th>1</th>\n",
       "      <td>GSE39271_S2_GFPi_CLAMP_IP</td>\n",
       "      <td>chr2L</td>\n",
       "      <td>66704</td>\n",
       "      <td>67126</td>\n",
       "      <td>422</td>\n",
       "      <td>False</td>\n",
       "      <td>AAACTGGTGGAAAGAAAAACCAGCCGACTACATTTACGCCATTGAG...</td>\n",
       "      <td>AAACTGGTGGAAAGAAAAACCAGCCGACTACATTTACGCCATTGAG...</td>\n",
       "    </tr>\n",
       "    <tr>\n",
       "      <th>2</th>\n",
       "      <td>GSE39271_S2_GFPi_CLAMP_IP</td>\n",
       "      <td>chr2L</td>\n",
       "      <td>67185</td>\n",
       "      <td>67461</td>\n",
       "      <td>276</td>\n",
       "      <td>False</td>\n",
       "      <td>TTTCGAGAAAAGAATAAATGGAAAAATACTATTTTCCACAAAAACA...</td>\n",
       "      <td>TTTCGAGAAAAGAATAAATGGAAAAATACTATTTTCCACAAAAACA...</td>\n",
       "    </tr>\n",
       "    <tr>\n",
       "      <th>3</th>\n",
       "      <td>GSE39271_S2_GFPi_CLAMP_IP</td>\n",
       "      <td>chr2L</td>\n",
       "      <td>72043</td>\n",
       "      <td>72838</td>\n",
       "      <td>795</td>\n",
       "      <td>False</td>\n",
       "      <td>GCCAGGATGAAACCTATCAGAGGTTTAAAAATGAGGATGTAAGTTT...</td>\n",
       "      <td>ATATGAATGAAGAATATACATACTAGAAAAGTTTCTTAATGTAGAT...</td>\n",
       "    </tr>\n",
       "    <tr>\n",
       "      <th>4</th>\n",
       "      <td>GSE39271_S2_GFPi_CLAMP_IP</td>\n",
       "      <td>chr2L</td>\n",
       "      <td>72963</td>\n",
       "      <td>73556</td>\n",
       "      <td>593</td>\n",
       "      <td>False</td>\n",
       "      <td>GAAATGAATTTAAAGTGCGTAATCGGGATACTATAGCGCAAATACT...</td>\n",
       "      <td>GAGTGGTTTAGTGATAGTGCTTAAAGTGTAAACATGTGTTTGTACG...</td>\n",
       "    </tr>\n",
       "  </tbody>\n",
       "</table>\n",
       "</div>"
      ],
      "text/plain": [
       "                      prefix    chr  start   stop  seq_length  chrX_status  \\\n",
       "0  GSE39271_S2_GFPi_CLAMP_IP  chr2L   5059   6067        1008        False   \n",
       "1  GSE39271_S2_GFPi_CLAMP_IP  chr2L  66704  67126         422        False   \n",
       "2  GSE39271_S2_GFPi_CLAMP_IP  chr2L  67185  67461         276        False   \n",
       "3  GSE39271_S2_GFPi_CLAMP_IP  chr2L  72043  72838         795        False   \n",
       "4  GSE39271_S2_GFPi_CLAMP_IP  chr2L  72963  73556         593        False   \n",
       "\n",
       "                                       full_sequence  \\\n",
       "0  gcagaacagatatttagattgcctctcattttctctcccatattat...   \n",
       "1  AAACTGGTGGAAAGAAAAACCAGCCGACTACATTTACGCCATTGAG...   \n",
       "2  TTTCGAGAAAAGAATAAATGGAAAAATACTATTTTCCACAAAAACA...   \n",
       "3  GCCAGGATGAAACCTATCAGAGGTTTAAAAATGAGGATGTAAGTTT...   \n",
       "4  GAAATGAATTTAAAGTGCGTAATCGGGATACTATAGCGCAAATACT...   \n",
       "\n",
       "                                      500bp_sequence  \n",
       "0  AGAGTGGTGCCAACATATTGTGCTCTTCGATTTTTTGGCAACCCAA...  \n",
       "1  AAACTGGTGGAAAGAAAAACCAGCCGACTACATTTACGCCATTGAG...  \n",
       "2  TTTCGAGAAAAGAATAAATGGAAAAATACTATTTTCCACAAAAACA...  \n",
       "3  ATATGAATGAAGAATATACATACTAGAAAAGTTTCTTAATGTAGAT...  \n",
       "4  GAGTGGTTTAGTGATAGTGCTTAAAGTGTAAACATGTGTTTGTACG...  "
      ]
     },
     "execution_count": 109,
     "metadata": {},
     "output_type": "execute_result"
    }
   ],
   "source": [
    "dataset_peak_info['GSE39271_S2_GFPi_CLAMP_IP'].head()"
   ]
  },
  {
   "cell_type": "code",
   "execution_count": 110,
   "metadata": {},
   "outputs": [
    {
     "data": {
      "text/html": [
       "<div>\n",
       "<style scoped>\n",
       "    .dataframe tbody tr th:only-of-type {\n",
       "        vertical-align: middle;\n",
       "    }\n",
       "\n",
       "    .dataframe tbody tr th {\n",
       "        vertical-align: top;\n",
       "    }\n",
       "\n",
       "    .dataframe thead th {\n",
       "        text-align: right;\n",
       "    }\n",
       "</style>\n",
       "<table border=\"1\" class=\"dataframe\">\n",
       "  <thead>\n",
       "    <tr style=\"text-align: right;\">\n",
       "      <th></th>\n",
       "      <th>prefix</th>\n",
       "      <th>chr</th>\n",
       "      <th>start</th>\n",
       "      <th>stop</th>\n",
       "      <th>seq_length</th>\n",
       "      <th>chrX_status</th>\n",
       "      <th>full_sequence</th>\n",
       "      <th>500bp_sequence</th>\n",
       "    </tr>\n",
       "  </thead>\n",
       "  <tbody>\n",
       "    <tr>\n",
       "      <th>0</th>\n",
       "      <td>GSE39271_Kc_GFPi_CLAMP</td>\n",
       "      <td>chr2L</td>\n",
       "      <td>66719</td>\n",
       "      <td>67472</td>\n",
       "      <td>753</td>\n",
       "      <td>False</td>\n",
       "      <td>AAAACCAGCCGACTACATTTACGCCATTGAGGCCACATGGATAGAG...</td>\n",
       "      <td>AAAGTCGTGTAAGTGTTTAATACAAGCAACAGTCAGGGAGCACGCA...</td>\n",
       "    </tr>\n",
       "    <tr>\n",
       "      <th>1</th>\n",
       "      <td>GSE39271_Kc_GFPi_CLAMP</td>\n",
       "      <td>chr2L</td>\n",
       "      <td>72315</td>\n",
       "      <td>72836</td>\n",
       "      <td>521</td>\n",
       "      <td>False</td>\n",
       "      <td>ATCTCGGGGTTGATAAAAAGTATTGAGCTATAGGTGGCCTCGGTCA...</td>\n",
       "      <td>TGATAAAAAGTATTGAGCTATAGGTGGCCTCGGTCAGGCCGGCATA...</td>\n",
       "    </tr>\n",
       "    <tr>\n",
       "      <th>2</th>\n",
       "      <td>GSE39271_Kc_GFPi_CLAMP</td>\n",
       "      <td>chr2L</td>\n",
       "      <td>72951</td>\n",
       "      <td>73468</td>\n",
       "      <td>517</td>\n",
       "      <td>False</td>\n",
       "      <td>AGGTGGTGGATGGAAATGAATTTAAAGTGCGTAATCGGGATACTAT...</td>\n",
       "      <td>GATGGAAATGAATTTAAAGTGCGTAATCGGGATACTATAGCGCAAA...</td>\n",
       "    </tr>\n",
       "    <tr>\n",
       "      <th>3</th>\n",
       "      <td>GSE39271_Kc_GFPi_CLAMP</td>\n",
       "      <td>chr2L</td>\n",
       "      <td>107829</td>\n",
       "      <td>108346</td>\n",
       "      <td>517</td>\n",
       "      <td>False</td>\n",
       "      <td>AAAACCACAGTGAGTATAAAATAAAGGATCTGGATCTAGATTCACT...</td>\n",
       "      <td>AGTGAGTATAAAATAAAGGATCTGGATCTAGATTCACTACAGTTCA...</td>\n",
       "    </tr>\n",
       "    <tr>\n",
       "      <th>4</th>\n",
       "      <td>GSE39271_Kc_GFPi_CLAMP</td>\n",
       "      <td>chr2L</td>\n",
       "      <td>109098</td>\n",
       "      <td>109448</td>\n",
       "      <td>350</td>\n",
       "      <td>False</td>\n",
       "      <td>ATTTGCACGACTTGAACAGAGGCTGAGAACGGGAAGAAGAGCTAGT...</td>\n",
       "      <td>ATTTGCACGACTTGAACAGAGGCTGAGAACGGGAAGAAGAGCTAGT...</td>\n",
       "    </tr>\n",
       "  </tbody>\n",
       "</table>\n",
       "</div>"
      ],
      "text/plain": [
       "                   prefix    chr   start    stop  seq_length  chrX_status  \\\n",
       "0  GSE39271_Kc_GFPi_CLAMP  chr2L   66719   67472         753        False   \n",
       "1  GSE39271_Kc_GFPi_CLAMP  chr2L   72315   72836         521        False   \n",
       "2  GSE39271_Kc_GFPi_CLAMP  chr2L   72951   73468         517        False   \n",
       "3  GSE39271_Kc_GFPi_CLAMP  chr2L  107829  108346         517        False   \n",
       "4  GSE39271_Kc_GFPi_CLAMP  chr2L  109098  109448         350        False   \n",
       "\n",
       "                                       full_sequence  \\\n",
       "0  AAAACCAGCCGACTACATTTACGCCATTGAGGCCACATGGATAGAG...   \n",
       "1  ATCTCGGGGTTGATAAAAAGTATTGAGCTATAGGTGGCCTCGGTCA...   \n",
       "2  AGGTGGTGGATGGAAATGAATTTAAAGTGCGTAATCGGGATACTAT...   \n",
       "3  AAAACCACAGTGAGTATAAAATAAAGGATCTGGATCTAGATTCACT...   \n",
       "4  ATTTGCACGACTTGAACAGAGGCTGAGAACGGGAAGAAGAGCTAGT...   \n",
       "\n",
       "                                      500bp_sequence  \n",
       "0  AAAGTCGTGTAAGTGTTTAATACAAGCAACAGTCAGGGAGCACGCA...  \n",
       "1  TGATAAAAAGTATTGAGCTATAGGTGGCCTCGGTCAGGCCGGCATA...  \n",
       "2  GATGGAAATGAATTTAAAGTGCGTAATCGGGATACTATAGCGCAAA...  \n",
       "3  AGTGAGTATAAAATAAAGGATCTGGATCTAGATTCACTACAGTTCA...  \n",
       "4  ATTTGCACGACTTGAACAGAGGCTGAGAACGGGAAGAAGAGCTAGT...  "
      ]
     },
     "execution_count": 110,
     "metadata": {},
     "output_type": "execute_result"
    }
   ],
   "source": [
    "dataset_peak_info['GSE39271_Kc_GFPi_CLAMP'].head()"
   ]
  },
  {
   "cell_type": "markdown",
   "metadata": {},
   "source": [
    "### Generating Kmers & Relevant Dictionary"
   ]
  },
  {
   "cell_type": "code",
   "execution_count": 120,
   "metadata": {},
   "outputs": [],
   "source": [
    "import numpy as np\n",
    "\n",
    "def generate_kmers(sequence, k):\n",
    "    \"\"\"\n",
    "    Function to generate k-mers from a sequence.\n",
    "    \"\"\"\n",
    "    kmers = [str(sequence[i:i+k]) for i in range(len(sequence) - k + 1)]\n",
    "    return kmers\n",
    "\n",
    "kmer_dict = {}\n",
    "for key in dataset_peak_info.keys():\n",
    "    df = dataset_peak_info[key]\n",
    "\n",
    "    kmer_temp_list = []\n",
    "    for i in df.index:\n",
    "        seq = df.loc[i,'500bp_sequence']\n",
    "        kmers = generate_kmers(seq,6) # kmer size here\n",
    "        kmer_temp_list.append(kmers)\n",
    "    \n",
    "    kmer_arr = kmer_temp_list\n",
    "    # kmer_arr = np.array(kmer_temp_list)\n",
    "\n",
    "    kmer_dict[key] = kmer_arr"
   ]
  },
  {
   "cell_type": "code",
   "execution_count": 97,
   "metadata": {},
   "outputs": [
    {
     "data": {
      "text/plain": [
       "['AGAGTG', 'GAGTGG', 'AGTGGT', 'GTGGTG', 'TGGTGC']"
      ]
     },
     "execution_count": 97,
     "metadata": {},
     "output_type": "execute_result"
    }
   ],
   "source": [
    "kmer_dict['GSE39271_S2_GFPi_CLAMP_IP'][0][0:5]"
   ]
  },
  {
   "cell_type": "code",
   "execution_count": 113,
   "metadata": {},
   "outputs": [
    {
     "data": {
      "text/plain": [
       "['AAAGTC', 'AAGTCG', 'AGTCGT', 'GTCGTG', 'TCGTGT']"
      ]
     },
     "execution_count": 113,
     "metadata": {},
     "output_type": "execute_result"
    }
   ],
   "source": [
    "kmer_dict['GSE39271_Kc_GFPi_CLAMP'][0][0:5]"
   ]
  },
  {
   "cell_type": "code",
   "execution_count": 114,
   "metadata": {},
   "outputs": [
    {
     "name": "stdout",
     "output_type": "stream",
     "text": [
      "{'AAATCT', 'TATCCA', 'GTTGAA', 'CTAGTN', 'TGGANN', 'TTCCGT', 'GAGGCA', 'CGCCGA', 'CGCCAN', 'TACCTT', 'TATGAN', 'ATAAGC', 'CGTAGC', 'AGAAGG', 'TNNNNN', 'CGTAAA', 'TTGCGT', 'TAATAG', 'TACACG', 'GAACNN', 'ATGGCG', 'CTCTGG', 'CACTCG', 'GCCGAG', 'AAGGTT', 'CTAGAN', 'AATGCN', 'CATGNN', 'TTCACT', 'GCGGCT', 'TACTTT', 'TCAGCT', 'GCNNNN', 'TGCGGA', 'TCTCAA', 'CGGGCC', 'ACAATT', 'GGTGCN', 'TTTTGA', 'GTGAGT', 'GGGCAG', 'GCGAAG', 'CTTCGC', 'ATGTGA', 'GACTTA', 'GTCAGA', 'CGAGCA', 'ACAATN', 'CCCCCG', 'CCGGCC', 'ACGTAT', 'TTCATN', 'CGGATA', 'CAACCG', 'CCTGAA', 'AGATAA', 'GTGACA', 'TTCGCG', 'TCGGNN', 'AAATAG', 'GCACGC', 'ATGTTG', 'CAAGNN', 'TCTATG', 'GGTCNN', 'GCAACA', 'GTCGNN', 'TGGCAA', 'CTTGGG', 'CCTATC', 'TCGGGG', 'TAATTT', 'TAGAAA', 'TGGATG', 'GCCTTN', 'CTATAT', 'TAATCN', 'ATCACC', 'ATCAAA', 'CTGACT', 'GTTGAN', 'ACCAAT', 'AGCCAN', 'TCGAGG', 'CTATTC', 'GATTTN', 'GGTCCA', 'TTGGGC', 'TGTCGN', 'CTCGCC', 'ATCACG', 'AGGCGN', 'GCTTAG', 'GCCTNN', 'GATNNN', 'GTCNNN', 'CCATGN', 'GTCGAG', 'CCTCAT', 'TTGGGA', 'CCAAAN', 'CAAGCA', 'CGGTTG', 'CTGCAN', 'CCAACA', 'ATTTTA', 'TGCAGN', 'CCACTA', 'CTGGCT', 'TACGGA', 'ACCTCN', 'GCCGAN', 'CGCTAC', 'CAANNN', 'GGCAAN', 'ATATGC', 'TCACCC', 'CCTGTT', 'TCCCAT', 'AGTATG', 'GAGGAN', 'GGCTTC', 'CAGGAG', 'CCAGCC', 'TCTTGN', 'ATAGCT', 'AAGAGG', 'TCAAAN', 'TCTTCC', 'TACCAC', 'GACCTT', 'TCTGGN', 'AACGGG', 'ATCGCA', 'GGGGAC', 'TTGTTN', 'CAATAT', 'ATTAAA', 'GATTTG', 'ATCAGG', 'AAGANN', 'ATGCGT', 'TCAGAN', 'GCAGTG', 'CAGAAN', 'GTAAGC', 'GAGTAT', 'CAACTA', 'GCGTGA', 'CTCAGT', 'ATAGTG', 'AGATAG', 'ACTATN', 'GCGTTA', 'ACAAGA', 'TTTCCC', 'CGGACG', 'TCCAAC', 'TTGATC', 'TTGGAC', 'TGTGCC', 'CTAATC', 'TTTCAA', 'AGCCAT', 'GAGGAC', 'TGGGCG', 'GGCAGN', 'AGCGCN', 'GCGACN', 'CACATN', 'TGACGT', 'ACGGAN', 'CACCCA', 'CTAACA', 'AAATGG', 'TACGAT', 'GGGANN', 'CAACNN', 'CAGTGT', 'GAGGAG', 'AGTCTT', 'AAGTTC', 'ACCCAG', 'ACCTTA', 'GCACTG', 'TCTCTT', 'AACCTT', 'CACTTA', 'ACAGCN', 'CACTGA', 'TTTGAT', 'CACCCC', 'TCTTCN', 'GCATAA', 'GGAGNN', 'GTGTAC', 'CCTTCN', 'GTGATA', 'GGCATN', 'AGGTCG', 'CTCAAG', 'TAGCCA', 'CGCTTT', 'TGCCGC', 'GAGCTG', 'CCGCCC', 'GTAAGA', 'ACGTTC', 'GTATGG', 'TCTCAC', 'TCTAGG', 'TTTATN', 'GGTCCG', 'TTGTAC', 'GTGTGT', 'TCGCTN', 'GCTTTA', 'GTCAGT', 'AGTCCC', 'TAACAG', 'TGGCTG', 'GGTCAC', 'GGCCCG', 'GCGCAT', 'ACTACC', 'AGAAGT', 'AAAGGN', 'GTCCTA', 'CAGGGN', 'AATCAC', 'CGGCAT', 'GACGGC', 'TTGCTG', 'GGCCTT', 'AGAGAA', 'ATTATA', 'TTATGC', 'ACGGTG', 'GCGGAA', 'ACTTAG', 'TGACTT', 'AGGCAG', 'AGTCCT', 'CATGTG', 'ATCACT', 'ACAAAN', 'CGAGCC', 'CGGGAT', 'CATTGC', 'CGAANN', 'TGACGG', 'AAAGTG', 'AACCGA', 'GTCGAT', 'AAATCN', 'GGANNN', 'CCCTGA', 'CGAGTT', 'CCAAGG', 'TGTGTN', 'ATTTCT', 'GGCAGG', 'AATAGC', 'ACTGGC', 'TCACTT', 'GAACTG', 'CAAACC', 'GATGCN', 'GGTTTG', 'AGCAAC', 'AGGCTA', 'TCCGGC', 'TGGTTT', 'CCTGGN', 'CAGTCT', 'CCACCN', 'ACACCA', 'TCCGTC', 'AAAATN', 'GAGTTG', 'AATTAT', 'TTCATA', 'AAGATN', 'AATCGA', 'TAAGAC', 'GCGTNN', 'AATCNN', 'CTTAAT', 'GACGGG', 'CTGCAA', 'AGTATN', 'ACGTAG', 'CAACGT', 'TCTGTG', 'GCCCGC', 'TATACG', 'TGATCT', 'TGCAGA', 'TTACNN', 'TGAGTN', 'AGGACG', 'GTCCCA', 'CGGAAN', 'GCTAGT', 'TTAGCN', 'ACCATN', 'CGTCCG', 'CTATCN', 'ACATAA', 'AATGGA', 'TGCTAC', 'CGGGCN', 'GCGACG', 'AAGGGN', 'TTCCAC', 'CATANN', 'AGACTA', 'CGTAAN', 'TCGGGT', 'CGGTAC', 'CCGTGT', 'GAAGAG', 'CTTAGA', 'AAAAGA', 'ACAGAT', 'CTCCAG', 'GAAGAN', 'TGAGTT', 'GTTGCN', 'GATAGT', 'GACCGG', 'TTTNNN', 'TTAACA', 'AGGCCT', 'TGCATT', 'GCTACG', 'CGACNN', 'CTGACC', 'GTAAAC', 'CCGGTC', 'TCCATN', 'CTCCAA', 'TAATAC', 'CGGAGT', 'AAAGAG', 'CTTTTC', 'TGTAAC', 'CCCGCC', 'AATCCT', 'GTACCG', 'CGTAGN', 'AGCGCA', 'AAAGAT', 'TGTGGG', 'GTTTNN', 'CATGCT', 'ATTGTC', 'TGCTGN', 'TATCAG', 'AGAAGA', 'GACATC', 'TCCGCG', 'CCTCCA', 'AATATG', 'GATACG', 'ACGCGT', 'CCAATC', 'AATACC', 'TACGCG', 'CTTCAT', 'TTGCAT', 'ATGGAT', 'GTTTTC', 'ATACTC', 'GCGTTT', 'CGTCCT', 'CCAAAT', 'CCGTGA', 'CAAATT', 'GTCTGA', 'CCGTAG', 'AGNNNN', 'CCTTTN', 'CTGTTC', 'CCAGTA', 'GGCTAN', 'TGGCCG', 'AAGGTG', 'CCCACG', 'CTGAGC', 'CCACAN', 'CACACA', 'GCCAGN', 'ACTCCA', 'GCGATA', 'CCACCT', 'GGGCTT', 'TGTCCG', 'TTACAG', 'TCTAAG', 'GCACGA', 'CTGGCN', 'ATGCAC', 'CGGTGA', 'AGCTTG', 'TTGTCC', 'AATTAG', 'CCTTCA', 'TTCATG', 'ACCATC', 'CCAAAA', 'GTTGCC', 'TCGGTC', 'GAGCTT', 'AAACTC', 'GGTATT', 'CACAGG', 'ACGACA', 'GAATCA', 'GTGCNN', 'GGGCCG', 'CATGTC', 'AGAAGC', 'AGAACA', 'TCAGNN', 'GGGCGC', 'CATCAC', 'CCTCCC', 'GCGTAA', 'ACATTA', 'CTTTCG', 'TTTAGA', 'ACCTNN', 'GATTAC', 'AGCCCT', 'CACATG', 'TCAAGG', 'TTCAAA', 'ATTNNN', 'CATGGA', 'ATCATT', 'GACGGA', 'GTAGAT', 'CTTAAC', 'AGGTNN', 'TAGTTT', 'GCTTGT', 'CCNNNN', 'TGTAGT', 'TGATAN', 'ACGCGG', 'GTCGTG', 'CCGANN', 'TTTGTG', 'ATTACT', 'ATAGAN', 'CGTGCC', 'GGTTGC', 'TCCGAT', 'ATGCTT', 'CAAGCT', 'GCTACC', 'AGGGGT', 'ATCCCA', 'GTGAGG', 'CACCGG', 'CACCAC', 'CAACGA', 'AGCTGT', 'GGCANN', 'GGGCGT', 'ATACCT', 'ACCGNN', 'TTTCNN', 'TACAGN', 'TGGCAT', 'AGGCTN', 'TAGTAT', 'GCCGCA', 'AGGTTC', 'GAGAGN', 'TTCTAA', 'AAAGCN', 'CGGATG', 'TGACCN', 'TTGTTA', 'TACGAG', 'TAGTTG', 'GCTAAG', 'CACNNN', 'CGGCGG', 'GTTCTA', 'AAAGCA', 'TGTGCG', 'GAAAGN', 'TGTATN', 'CCTAGG', 'TGACCG', 'CATAAT', 'TCATGN', 'AATGTT', 'AGTCTG', 'TTGGGT', 'TGCATG', 'TCCTGC', 'TTCCCT', 'GGCTTT', 'GTCGAA', 'AAACTA', 'ATTAGT', 'ACTTTG', 'TCCAAT', 'TCCTCN', 'GTAAGN', 'AACGNN', 'TCGANN', 'CAACCC', 'CACGTT', 'GCTTCA', 'GATTGN', 'AACTAN', 'CACTGC', 'TGGTCT', 'TTCCCC', 'GAAGAT', 'CCTCCG', 'GGCCGC', 'GTGCTN', 'GCGTAG', 'GACATG', 'TTTGCN', 'CAGGGA', 'GTAAAA', 'GTAACA', 'GGGAAT', 'TGGAGT', 'ACTATC', 'AGAAAN', 'TGGGAT', 'GCGCAC', 'TGTATA', 'TACGCT', 'CGAGGT', 'CCGATA', 'AGGTCA', 'AGTAAT', 'GCCCGA', 'TACGAC', 'GTTAGG', 'AATAAA', 'CCAGTG', 'CCGTAT', 'CCCANN', 'AATATA', 'CGACGT', 'TGAGCA', 'CTACGT', 'TAAAGT', 'AGTTGC', 'AAGNNN', 'GTGCGT', 'CGGCCC', 'ACCAGN', 'CAATTN', 'CCCAAN', 'TGGCTT', 'GTTGTT', 'GNNNNN', 'AGCCGG', 'CCACCC', 'TACGNN', 'TATGGC', 'GAACGT', 'AACCCC', 'TTCGGA', 'TTATNN', 'TTTGTT', 'GGTATN', 'AAGTNN', 'CCGTCG', 'GTTCGT', 'CGGGGA', 'TGCTAA', 'TATAAC', 'TTGTGC', 'TTTCGA', 'TCAGCG', 'GGTTCT', 'TCCANN', 'GCAGCT', 'GGGACC', 'GCGGGC', 'ATGTTN', 'TAGGCG', 'AGTTGT', 'CCTCCN', 'ATGACT', 'GGGGTA', 'ACCCTC', 'TCGATG', 'TGTAGG', 'TTTGNN', 'TACTTN', 'ATCATA', 'CTATGA', 'GAGCAA', 'CGATAG', 'TGGGAN', 'AGTTNN', 'GCCTAN', 'TTCTAC', 'GTGGTN', 'TAATCC', 'TATGCC', 'CCACAT', 'CTCCTT', 'TCTGTT', 'ACTGGT', 'GGTACG', 'TTGCCN', 'TTCGGT', 'CGGCTA', 'ATTGCN', 'TGCAAT', 'AATGAT', 'GGACGT', 'GCTTCT', 'TCAAAA', 'GGTGGT', 'TATGTC', 'ACGTCC', 'CATGAT', 'AGGCGA', 'AGCGCC', 'AGCATN', 'CGGTAT', 'TTCCGN', 'GACACT', 'CGANNN', 'CCAGCG', 'GTGAAC', 'TAAAAT', 'GCTGCN', 'TATACC', 'ATAGCC', 'CGGGTT', 'CATNNN', 'ACCTAA', 'CCCCCT', 'GTTGTG', 'GCTTCC', 'ATTTCN', 'AGGGTA', 'TATTGG', 'ATCGTN', 'CTGCCG', 'CTCAGN', 'TTCCGA', 'CGTCTG', 'CACCCT', 'CCGCTN', 'GGAGCA', 'GTAATG', 'GACAAA', 'CTGCGT', 'GAACTT', 'TGTGCA', 'CAGCGG', 'TGCCAC', 'CGATTG', 'ACTCAT', 'TTATGT', 'ACTCGG', 'CATTCC', 'GTTCCT', 'GTCTAT', 'GGTACA', 'CAATAA', 'TAGTAN', 'GAGAAC', 'GGTCAA', 'TCATGG', 'GACNNN', 'TGGAAA', 'CAAGTT', 'GCTTGG', 'CAAGAN', 'TACATA', 'TTNNNN', 'AAGTCG', 'CACATC', 'AGCTAA', 'GTGCCG', 'CGAACN', 'AGGATC', 'TTACCN', 'TTTATA', 'GTTAAA', 'TTAAGG', 'ACCGGC', 'CTCNNN', 'ACTGAG', 'AGTGGN', 'AGCATA', 'AGGGAC', 'TTACGA', 'GTCCAN', 'AGCAAG', 'CGGCNN', 'TCCTGA', 'TGCGTT', 'TTATCN', 'ATAANN', 'TGTTGT', 'TTGTAN', 'CCGGTT', 'TGAACT', 'CCCAAT', 'GCAAGC', 'TCAAGN', 'TGTCCT', 'ATCCCN', 'GTTACN', 'CCATGG', 'GTAGAN', 'AAAACT', 'CCCAAA', 'GATATN', 'CGGGAN', 'AACTGC', 'AGCCTA', 'GAATCC', 'GCCCCA', 'GAGAGC', 'GGAAGA', 'AAGCTN', 'TGGACC', 'TATACT', 'CTATAG', 'AGGGTG', 'AGGTTT', 'CCCTTT', 'CTACCA', 'TTGANN', 'GTCAAC', 'ACCACN', 'GCAGAG', 'GCAAAG', 'ATATGA', 'CCGAGG', 'CCCATN', 'GCTTTG', 'AGTGTA', 'CCGCAA', 'TGATGA', 'GATGGA', 'CGCGCC', 'TGCATA', 'GCGGCC', 'GACCAA', 'CTTGCT', 'TGAATG', 'ATCCTA', 'AAGCTA', 'GGAGTN', 'GAGTGN', 'CTGTAA', 'ACCCGG', 'ATGCCT', 'CCACCA', 'GGCCCT', 'CACGNN', 'TTCGTN', 'TCGATT', 'AGGCAA', 'TTTGCA', 'AGGGAN', 'TCAAGA', 'AAGCAC', 'GGCGTA', 'TTAGGN', 'ACTGNN', 'CACACN', 'GGTTGA', 'GGAACT', 'TTGCGN', 'ATGCAN', 'TCCGAN', 'GTAACC', 'CTAAAG', 'TTTGGC', 'ATTGTT', 'CTACGC', 'CTGGGT', 'NNNNNN', 'CTAGNN', 'TATCTC', 'AGGGCC', 'ATGGCT', 'TAACTT', 'CAGTAT', 'GCCGGG', 'TGCTAT', 'TATNNN', 'TGGCCA', 'GACAAN', 'TCGAAA', 'GTTACT', 'GTTGNN', 'TGTCAT', 'ACGTCA', 'TGGTCG', 'CGACCT', 'CGACCC', 'CAGTTG', 'AAACGA', 'AATACN', 'TCAGGN', 'GAATAT', 'TTTCGN', 'AATAAT', 'CCGCTC', 'CACAAN', 'TTAGGA', 'ATTGCG', 'TAAAGN', 'TCGAAT', 'TGAGAT', 'ATGCGN', 'CTTTTG', 'GATAAC', 'CAACAG', 'ACTACA', 'CCATGT', 'AACGAA', 'CCTCTC', 'GGCTAA', 'GCATGT', 'GTGACC', 'CCGGCN', 'TGCGCT', 'TCACAA', 'GTATNN', 'TAGAGN', 'ATGCGC', 'AGCGCT', 'TCTCGC', 'TTCCTC', 'TGAAGA', 'ACATCN', 'AGGTGN', 'TTGCTC', 'CGATGG', 'ATGTCT', 'TATCTT', 'ACGCAG', 'ATCTGC', 'TCTAAC', 'AGGAGA', 'CCATNN', 'ACGGTC', 'GAGCGT', 'CCCCAG', 'CACCGA', 'CAAGCN', 'ACTCCG', 'GTCGGG', 'AACATA', 'CATCTA', 'GCCTGT', 'ATANNN', 'GGGTTN', 'TGATGG', 'ATCGGG', 'AAGACA', 'AATTGA', 'CTCTAN', 'GGGTTG', 'AACTCN', 'GGCTGC', 'CCGTTN', 'AAGGGT', 'TACGAA', 'GGACTA', 'GGCTTG', 'AAAGAC', 'CAATTC', 'CAAAAN', 'TCCATC', 'TCTTGT', 'CCGGTG', 'TAGTGC', 'AGGTAT', 'TCCAGA', 'AACAGA', 'CAGGAA', 'TCCGNN', 'TGGATA', 'AGTGGA', 'CGTACT', 'ATGAAG', 'TAAAAN', 'TCGGCT', 'ACAGGC', 'TGCAAG', 'AGTGAN', 'AAGATC', 'AATTCN', 'GTGCAA', 'TGTGGC', 'CCCTCC', 'TCATTN', 'ACATGT', 'TGGGTC', 'TCTTGA', 'CGTCAN', 'GGTGTG', 'GATACT', 'CGCANN', 'GCTCTT', 'CGTCAC', 'GCATTN', 'GCAATC', 'TTCTTG', 'GGAAGC', 'GATGTC', 'ATTTTN', 'ATGACN', 'GAAGNN', 'GTGANN', 'GCGATG', 'GGACGA', 'AGGCGT', 'TTAGTA', 'ATGGAN', 'CTACCN', 'TGGAAC', 'GCCTGA', 'CGCAGA', 'GGTTCA', 'GAACAA', 'GCTCTG', 'ATGCCA', 'AGTACA', 'TGTGAA', 'AGAANN', 'TGACTG', 'GATGCG', 'AGCTGN', 'ATATGG', 'AAGGAT', 'GTATAT', 'CAGGCA', 'CGTTGA', 'TTACTG', 'CATTTT', 'GCCTTG', 'AGCCGA', 'GTAGGG', 'ATGAGA', 'TACCAN', 'CGCCTA', 'GTCTCN', 'CTGGCC', 'TACTGA', 'AACTAT', 'TATANN', 'ATAACN', 'CGACAG', 'AGCGAC', 'TCTAGN', 'CGTATN', 'GCAGCN', 'CGAACT', 'GTCTAN', 'CTGAAT', 'GGCGCC', 'GCANNN', 'ACGTGG', 'ACCCCC', 'TCATCC', 'AGTGAC', 'TAAATG', 'ATAGGA', 'CTGTTT', 'GAGTGA', 'CCTGGG', 'TGCCTT', 'CTAGCT', 'CCGGGT', 'TTGGTT', 'CATAAA', 'CCTTAC', 'GAATCN', 'TTGCGC', 'GGGNNN', 'TACANN', 'GTTTCN', 'AACAAG', 'GCCTAA', 'AATGAC', 'GAGGTT', 'AACACT', 'GGGGGC', 'AGGCTG', 'ACACCC', 'TCCTTG', 'TAGGAN', 'GTTTGC', 'GTTGTN', 'CTATGT', 'GTGGAC', 'GTATGC', 'GGATGN', 'AGAGTG', 'TACAGT', 'GACTCC', 'TAGGAA', 'TTTCCG', 'AATACG', 'CGAAGT', 'GCTGNN', 'GGATGA', 'ACATAN', 'CGATCA', 'CGATCN', 'TAACGA', 'GAACTN', 'GCTCCC', 'TCTATT', 'GATGGN', 'CGGCCA', 'CCGACT', 'GATAAT', 'CGCCTC', 'GAACCT', 'CTCATG', 'GACANN', 'ATCGGA', 'GCGCTN', 'CCGTTT', 'CGCATT', 'TGTTAG', 'GGGCGG', 'ATCTCG', 'TGATTG', 'ATACTA', 'CTGAGA', 'TANNNN', 'TTAGGT', 'AGAGCC', 'TGGATT', 'TTCCAG', 'GTACCC', 'ATATGN', 'GCTGTG', 'AAACCA', 'TGAAAC', 'GGAAAC', 'CGGACT', 'GGCGTG', 'TAAGTN', 'TGACAN', 'TGTAAG', 'TTACTC', 'AACCGT', 'AGATTA', 'CTTTTA', 'TGAGAC', 'GACCTN', 'GACTTT', 'TAATGT', 'TCTGAT', 'GCGGTC', 'GTCCNN', 'TGTGTT', 'TACTCT', 'CCAGGT', 'GGACTN', 'AACCAA', 'AAGGCC', 'TGCGAT', 'TGTGGN', 'TTGTGG', 'CAGCCA', 'GTTTAA', 'CCGCGT', 'AGACAN', 'ATGGNN', 'AGATAN', 'TGCGGC', 'ACCGAN', 'GATTTA', 'ATGCAG', 'GGGCTC', 'TGACAA', 'AACCNN', 'AAAGGG', 'TGTCCA', 'CTATCG', 'AACCAT', 'CACAGN', 'CCAGAA', 'TCATAT', 'CACGAA', 'CTAGGC', 'AAGGNN', 'TGAGTA', 'TTGCAC', 'GACTCT', 'GGTTTT', 'TATGCN', 'AAGAGA', 'GATGAC', 'ACGTCT', 'CGAAAN', 'TCACAG', 'TTGAGN', 'AGTGAG', 'GAGGTN', 'GTCAGG', 'TCAATG', 'CATCCT', 'TCATGC', 'TTAGAA', 'AGCAGT', 'GAGTCC', 'AGCCCN', 'ATGCTA', 'CTGAAA', 'GTCGCN', 'TGGGAC', 'AGTTCA', 'TATTGT', 'TGCCCA', 'ACACTT', 'CCGACC', 'GCTCTA', 'AACGCG', 'TAGCAT', 'GATCTT', 'AATGAN', 'AGGCCN', 'ATTGAN', 'GTGCTT', 'TTACAN', 'CCATTA', 'CCCTTG', 'GTCANN', 'ATTTTG', 'AAGCAT', 'ACAGCA', 'TGCACN', 'CCCAGT', 'GTTGAG', 'CAATTG', 'GAACCG', 'AGAAGN', 'CCCACA', 'GAGGGA', 'TCCCAA', 'CTCGCN', 'TACTGT', 'CCAGCN', 'TATTAT', 'AATAGA', 'ACGGAC', 'GTTCCA', 'AAGTGN', 'GCGTCA', 'CTTATA', 'ACCTCA', 'GACGTC', 'CTACCC', 'TCCCCT', 'AACTGT', 'CCACTC', 'CATTAA', 'CCTTGT', 'CATTAN', 'CAGCTG', 'GCTAAT', 'GGGTNN', 'CTTCTG', 'CCGTAA', 'GCATTA', 'ACGCTA', 'TATCCG', 'GGTTCC', 'CGAGAN', 'ATGAAT', 'CATCGN', 'TACAGG', 'AACTGN', 'AGTCTC', 'CTCGGA', 'TGGCGT', 'CCTTTC', 'TGGTCA', 'GGTCTN', 'CTGCAG', 'AAATGA', 'TAATGC', 'GACTGC', 'GCCAAA', 'ACATGC', 'TTTGAC', 'GGAAAT', 'ACGGTN', 'ATAACG', 'CTAGTT', 'GCCCAT', 'CTGGTA', 'GGTGCG', 'AAAGCC', 'CCCTCT', 'ACCTCT', 'AGGATA', 'GGACAN', 'TATTGA', 'TCTTGG', 'CTACAG', 'GTTAGT', 'GTCTTN', 'CCCCAT', 'GGATTG', 'GATAGA', 'GTTTGA', 'GGATTC', 'CCAGAG', 'TTCAAG', 'AATTTC', 'GAGCGN', 'GACTTC', 'CGTTTA', 'AGCTTT', 'TGGTAG', 'TAATTA', 'AGGGGG', 'ATTCTG', 'ATCACN', 'GCAGCA', 'CGCGCT', 'CCAATN', 'GGCGTN', 'GCGCGC', 'GCTACN', 'CTCGTC', 'GTTGGA', 'CCGCGC', 'GAGCCT', 'TGTTNN', 'CGGCCT', 'CTTTNN', 'AAAGTT', 'CATGTT', 'CATATC', 'TAGCCT', 'TGAGCN', 'TTGGAN', 'TAGGTC', 'TCCATA', 'CCGGGC', 'ATAGGC', 'ATTCAG', 'GCAGGN', 'AATGCC', 'TGTCCC', 'ATCAGA', 'CGGAGC', 'GAGTNN', 'ATTGGC', 'CGCGTT', 'AGTAGA', 'TTTTAC', 'CAGATA', 'AAACTT', 'GGTATC', 'GAACAN', 'CGTTAA', 'CAGACA', 'CGAGAT', 'TGACGA', 'TACATT', 'TAGCAA', 'CTATAA', 'TTCGCC', 'CCAACT', 'TGTNNN', 'GTCGCA', 'GGGGCN', 'GTGTAT', 'GCGCTT', 'CGTAGA', 'GTGTTN', 'CGCGAA', 'GCGAGC', 'TCGCTA', 'TGTGAT', 'GAGTAA', 'GAACTC', 'CCACAA', 'TCATCN', 'TGGGNN', 'ACCAGT', 'GTACTC', 'GGTCCC', 'ACCTTN', 'GTACGT', 'GCTATN', 'GCACGG', 'TGACGC', 'AGGGGA', 'AGGTAC', 'GACGCT', 'AACTCC', 'TTCTNN', 'TCTCAG', 'AGACGN', 'GTTCGC', 'TGAGAG', 'GGTCAN', 'CCACTN', 'CTAGCG', 'CATATN', 'CTAATT', 'ATCGAN', 'GGGTAA', 'CTTTGT', 'TCATAA', 'TCGGCG', 'TCTGCG', 'GGGACN', 'AGTACG', 'ACCGTT', 'CCTCAC', 'TCACGA', 'CTGAAN', 'CTTGAG', 'CGGATC', 'GTGCCC', 'GAGATC', 'CACANN', 'CGGTNN', 'ACATGG', 'AATAAN', 'AAGGCA', 'TCTCGN', 'GGTAGN', 'CCGGAT', 'TTTACG', 'GGACAG', 'ACGAGT', 'GTGCGG', 'CGACCG', 'TTCCTN', 'GATCGG', 'TTCGTA', 'ACTAGA', 'CTTGAA', 'TGCTGC', 'CATCGG', 'TAGGGN', 'TTTTTC', 'TAGTCG', 'ATCTTN', 'CATAGC', 'CAATGA', 'ATACTG', 'TTTGCT', 'GCTAAC', 'GAGTTT', 'ATCGGN', 'TTTTAT', 'TTCACN', 'AGTAGG', 'GCTGCC', 'TTTACN', 'TCATAG', 'ATGCGG', 'GTTCGG', 'CGCCGG', 'AACNNN', 'CCACTT', 'TGGTNN', 'AAGGTA', 'GCAAAA', 'CCCTCG', 'CTCATT', 'TGCCAN', 'ACGCAA', 'AAAGGT', 'CTGTCN', 'TCCTTT', 'TAGACT', 'GGTGGG', 'TGCAGC', 'ATAATC', 'CTCGCA', 'ACGGAA', 'AGGTGT', 'CATTCA', 'CCTACG', 'CCGTAN', 'ACGGGC', 'ATGTTA', 'GACGTG', 'AGAGCN', 'GTACAA', 'CAGCAT', 'GCCCCC', 'ATCCGC', 'GTGAGA', 'TCAGGT', 'CAGAGT', 'TATCGA', 'ACATTN', 'GACTGA', 'CTGGAA', 'GGACAA', 'CGATGC', 'GTTTTT', 'GTGTGA', 'TATGAT', 'ACAGTA', 'AGGATT', 'AAAGTN', 'TCGACT', 'TCTCCA', 'GACTGG', 'GCTGGT', 'CCCGTG', 'CGTGGN', 'ATAAAA', 'GTGGCG', 'CTACGA', 'CGAGTN', 'ACCAGC', 'GTGATC', 'ATCTAC', 'TGCTCA', 'CTGCNN', 'CCCGAN', 'GATATC', 'CGGTGT', 'TTGNNN', 'GTCTCA', 'TATCTN', 'CGATAN', 'AAAAGT', 'TCCGGG', 'TGAACG', 'AGCGTG', 'CATCGA', 'CCAAGN', 'TAACAA', 'GGCTGA', 'ACAGAG', 'CTTCCN', 'ATACAA', 'TCTGGA', 'ACGAAC', 'CACTTT', 'TGTCGT', 'TTAAAT', 'GTAGGA', 'CATACT', 'AGAGGG', 'GCTCCT', 'TACATG', 'CGTTTC', 'CGCGGN', 'TGGACG', 'TCGACC', 'CCCTGT', 'TCGTNN', 'AGCACG', 'TGGTTG', 'GTGAGN', 'GTCAAA', 'CACGGA', 'GACAGG', 'TTGCAA', 'CAATGT', 'TGAGCT', 'ACCGCT', 'GATATT', 'TTAATT', 'TGCCGT', 'CTATAN', 'AGGCAN', 'TGTTGN', 'GGAACC', 'GATCAG', 'ATGTAN', 'GTGCGA', 'CACGAC', 'TAGATT', 'GTCGAN', 'GCGACT', 'GCGCGA', 'CGCTGN', 'GCGGAC', 'CAGCAN', 'GTATAN', 'TCCTAT', 'CTGGAN', 'TATGCT', 'GGGCCA', 'GCTTNN', 'TCGGAT', 'CCCGCG', 'AAGTAN', 'ACACAC', 'ACGGGT', 'TTTTAN', 'AGAGGT', 'CTCGGN', 'ACGAAN', 'CGCCCT', 'ATGCNN', 'GGCCAG', 'ACGTGT', 'CGCAGC', 'CAGTGC', 'CTCGTG', 'TGAGAN', 'TCGGAC', 'CGCACC', 'ACCGAA', 'AACAAN', 'TTCGGC', 'TAGCAG', 'AGCAAT', 'ATTGAA', 'GGTCGA', 'CAGACN', 'TCGTAA', 'TTGGTN', 'GGCGCN', 'TAACAT', 'TGTTAN', 'CGTTNN', 'CAATCC', 'GCCTTA', 'ATACGN', 'GGTTCG', 'TCACCG', 'TGTCGC', 'TCNNNN', 'GATGGG', 'CGGCTT', 'ACCATT', 'TGTTAT', 'ACCTAC', 'GTGGAN', 'TCATTA', 'TTGACT', 'GATCGN', 'CAATCG', 'CACAGT', 'TCACGN', 'CTTGTG', 'CTCCCA', 'CGAGTG', 'AACACN', 'ACGGCC', 'GCGCCC', 'TACCCC', 'ACTCGN', 'TGGGGN', 'AACTAA', 'ATCAGC', 'ACGCCG', 'CTACAT', 'GAGTGC', 'TGTCTT', 'TCTGAN', 'TAAGGC', 'CCAACG', 'ACTATT', 'GACCCG', 'TTTCGC', 'TACGCN', 'CATCNN', 'AACCCA', 'TGAAAT', 'CGAGAG', 'CTACAA', 'AAATTA', 'CGACTC', 'TTACGG', 'ACATTC', 'ACAACN', 'GCACNN', 'AAGCGA', 'CTAATA', 'CACGAT', 'GAGAAG', 'AATCGT', 'AATGAG', 'CAAGCC', 'TTTTCG', 'CTAATG', 'TTTANN', 'CGGGTG', 'GTGTNN', 'TTAGAT', 'GCTGAT', 'ATCTTC', 'CACTTG', 'ACTAAA', 'AGATNN', 'TCGAGT', 'GATGAN', 'CCAGGC', 'AGATCA', 'GCATCT', 'TGAGGA', 'TAATGA', 'CACCAA', 'GTGTTT', 'CAGTTT', 'GACTGN', 'CAAAGC', 'GCCTCG', 'GAATAG', 'AGACTC', 'ACACGT', 'GGCCCN', 'CCTGTN', 'AGGAGT', 'GAGGAA', 'TCGGGA', 'AGCACA', 'ACCCTA', 'CCTGGA', 'GCCAAN', 'GTCATC', 'TATGGN', 'AATCGG', 'GTAAAN', 'CGAACA', 'CTGATT', 'GAAGCC', 'TAGTAG', 'TCCCTN', 'GCTAGG', 'TCACCT', 'ATTCCT', 'CCCNNN', 'AAACTG', 'GAACGG', 'CAGTTN', 'ATTCGN', 'TGCCGA', 'ACNNNN', 'GAGCGA', 'CTCCTG', 'CTCATN', 'CAGCCC', 'AACGTG', 'TGTGCT', 'AGTGCT', 'ACTAGC', 'ATAGCA', 'TGATCA', 'CGATAC', 'TTGATG', 'GTGCCN', 'GGGCTA', 'GTTATA', 'AACGGA', 'ATCANN', 'AATTAA', 'AATATT', 'TCTATN', 'CAAATN', 'GCATCC', 'TACTTG', 'GCCTCT', 'GCCCAN', 'AACACA', 'CGCGNN', 'TCAGTG', 'ACGATA', 'TGGGTT', 'GGCGAC', 'ACGTTN', 'TCAACT', 'CAGGCN', 'TCTACT', 'GACTAT', 'CAGTAA', 'TTAAAA', 'GTCAAN', 'CTGACN', 'GGATCT', 'TTCCCG', 'ACCGAT', 'GCGACA', 'TATCTG', 'CCTAAC', 'CTTCAA', 'CGCTTN', 'CGGGTA', 'CAGAAC', 'GGNNNN', 'CTTTAN', 'CTCCGT', 'CCCTAT', 'CTTAGN', 'GATCAN', 'TAAGCT', 'CACCAT', 'GATGCT', 'TTGATA', 'TCGGAN', 'CGGGNN', 'GCTCGC', 'GTGACT', 'GGTCGN', 'ATTCGT', 'AAGCGG', 'CACGTC', 'CTTTAC', 'TTCTTN', 'GTAGTG', 'CCGAAC', 'TAAANN', 'GCGAGT', 'GAGTTA', 'CGCCCC', 'TGCCAG', 'CTCACT', 'GAGACA', 'AGTTCC', 'GGCCAN', 'AAACAA', 'TCCTAC', 'TCGCCN', 'TATGTN', 'TATCAA', 'CGGTCT', 'GTCCTG', 'CCATTG', 'AGCTTA', 'ACCTTT', 'GAATCG', 'TTCTTT', 'TACCGN', 'TACAAA', 'CTTCTC', 'CGTTAT', 'CAAGGA', 'GACATT', 'GTGTAN', 'CTCCCC', 'AAGGCN', 'ATCCCG', 'ATACCC', 'TTATTG', 'ATCAAN', 'AGGGAT', 'ATTCCA', 'AGCACC', 'CTATCC', 'GGCTAC', 'GCATAC', 'ACTGTA', 'ACGAAA', 'ATCGCN', 'TTACCG', 'ATTTAC', 'TACGTT', 'AGTGGT', 'AGGGTC', 'GCCGAC', 'GAGCCA', 'TCCTTC', 'TCGTAC', 'CGTGTN', 'CGAAAC', 'CCCCGA', 'TGCAAA', 'CAACAA', 'CATTTC', 'ATAGCN', 'TAGAAT', 'TTAATC', 'AGGCCC', 'ACGCGC', 'ACTTCG', 'CAAATC', 'TAGACC', 'GCTGTT', 'GCCATC', 'CGGTGG', 'CTCGAN', 'CTAGGG', 'CTCGGC', 'AAAGTC', 'GTTCGA', 'TAGCTC', 'AACGGN', 'GTGGAG', 'AGGACA', 'TTCCTA', 'GCACCA', 'TAAGNN', 'CGATTN', 'ACAGTG', 'GCGGGG', 'CGTGGG', 'TCTGGG', 'TGGGGC', 'AGACTT', 'AAGCCC', 'GTACAC', 'CGTGAN', 'TTAAAG', 'AGTCTA', 'ACGATT', 'GGCGGN', 'ACGCAC', 'GAAATG', 'GAGGCN', 'GGTTAG', 'TGATGN', 'GATTCT', 'CCCGGA', 'GTCCTC', 'GTTAAN', 'GTTGCG', 'GGATAG', 'AGCGTT', 'GGATAT', 'GAACAT', 'ATGTGG', 'AGGCCA', 'ACGGTT', 'CTTATT', 'ATGGTN', 'GGTTGN', 'CGACTN', 'CGGTTN', 'GGTAAT', 'CAGAGA', 'ATTATG', 'CTACAN', 'GTGGCN', 'AGTTAN', 'GACCAN', 'GCCTTC', 'GTACTT', 'CCAGGN', 'ATCCNN', 'TTAATA', 'GGTGGN', 'CCGCTA', 'CAAAAG', 'AATCCA', 'TTTATC', 'AATACT', 'TCTAAN', 'GTGCAT', 'GACCGT', 'AAAAGN', 'GGTACC', 'GTGTTG', 'AACAGN', 'TCCTGN', 'TAGTCC', 'CGCTGA', 'CCCCGC', 'GCGGCG', 'CAAGAT', 'TAAGGN', 'TGAAGC', 'ACTCTA', 'TAATTC', 'AGCGGT', 'TGTGTC', 'ATAAAN', 'CCTCNN', 'AACANN', 'CAGCCT', 'AGTTTT', 'TTCTAG', 'GTCCAG', 'CCGATC', 'CCTATG', 'TCGTTC', 'GAGACN', 'TCCCGN', 'AGTTTN', 'AGAAAG', 'CGGCGC', 'CGTTCC', 'TGACAT', 'CATATA', 'ATAGCG', 'GATTGC', 'GCTCNN', 'AATGGG', 'CGTNNN', 'CGGCAN', 'GCCTCN', 'ACGGGA', 'CGCGCA', 'GCTATC', 'ATACNN', 'ATATGT', 'GTCAAT', 'GGTATG', 'CCATCC', 'CTTCAG', 'AGGCNN', 'CTAAGC', 'TGCCAT', 'CTTCGG', 'CGGCTC', 'CTGCTA', 'GAAAAN', 'TCCTCT', 'GGTCAT', 'ACTAGT', 'GTCCGC', 'GGGTGT', 'CGACGN', 'CTGGAC', 'AGGTCT', 'TTTCTN', 'GTGACG', 'AGACCT', 'TGGCCC', 'TTCCCA', 'ATTTTC', 'ACGTTA', 'CCAACC', 'GGCGAA', 'TCTTTT', 'AACGCC', 'GCCAAT', 'GGCCCA', 'ATCACA', 'GCGCGT', 'GTTGAC', 'ACCGTA', 'ATTGGA', 'TGTACG', 'AAGAAN', 'CAGCGN', 'ATTCCC', 'GGGGCG', 'AGGATN', 'TGGTTA', 'ACTGTT', 'AGCCTG', 'GAGAAT', 'CCAGTC', 'CACTTC', 'AGTAGT', 'CTGTTA', 'TAACGT', 'GGTGAA', 'CTGACG', 'ACTATG', 'AAGGGA', 'TGGTAA', 'TTAGGG', 'CTAGTA', 'CGGANN', 'GAGGGG', 'TGGNNN', 'TAAGGA', 'CTTAGG', 'TCAGCN', 'CCCAGC', 'TCGNNN', 'TACGCA', 'CCTAAN', 'GCGGCA', 'CACGCT', 'CCTCGG', 'GTGGGA', 'TGCCTN', 'TGCCCT', 'GTGAAG', 'CCGGNN', 'TCTTGC', 'AGCTAC', 'GCAGTT', 'GGCTNN', 'TTCCNN', 'TTATCG', 'GTAATN', 'CTCATA', 'CATTGG', 'GAAACN', 'GGGCAT', 'AACGTA', 'CCTGCT', 'AATGGC', 'GGTGTT', 'ACATTT', 'AAAGGC', 'CCTGTA', 'TCTGGT', 'GGAANN', 'GGAGGG', 'GGGTAT', 'GGTAGC', 'CATTGN', 'CACTTN', 'GACTAC', 'TTCAAN', 'ACCANN', 'TCACGC', 'TATGGA', 'AGCTAT', 'GTCTNN', 'CCATTN', 'GGAACG', 'CGTCTN', 'AACAGC', 'CCATCG', 'AGCCTC', 'ACATAT', 'TTACTA', 'GGAGAA', 'ATATAT', 'TCCGAG', 'CCATCN', 'AGCCNN', 'TAAACN', 'CCCACT', 'GATCAT', 'GAGGGT', 'TCATGA', 'AAAGCG', 'CAAGTG', 'CCGGAA', 'AAGAAG', 'AATAGN', 'CCACTG', 'CGCGGC', 'AAATNN', 'TACATC', 'AAACAG', 'TTCACA', 'TGCATN', 'TGATTT', 'TCCTAN', 'AAAATA', 'AACATT', 'GCGGAG', 'CAAAGG', 'GTGGGC', 'ATCGTG', 'TCGCGT', 'TGGAGA', 'ATGCCG', 'GGCGGT', 'TAAGCC', 'GCTGAC', 'GGTCTT', 'CTCCNN', 'AAAAGG', 'ATAGTN', 'TCTGTN', 'TCGCCC', 'ACACTC', 'GAGCCN', 'GTACAN', 'GAAAGC', 'GCCAAC', 'TCCCAG', 'AGACTG', 'GAAACG', 'TCGCCG', 'GCTAGC', 'TCGAGN', 'GATGAA', 'TGCAAN', 'GGAGCN', 'GTCGCT', 'CAGGCC', 'GTTTAN', 'GCGGTA', 'TCGGTG', 'CGATNN', 'ACACCT', 'GCAGAT', 'GACCNN', 'CCTCGC', 'GCAATA', 'GTGAGC', 'GCTCGN', 'CCCCGG', 'GGCCGT', 'GATCAA', 'CCACGT', 'ACCCTT', 'CTGCTG', 'CTCGTN', 'CTAGAG', 'GCTGCG', 'GCGATN', 'GCACAG', 'ATTGAC', 'TCCACC', 'TGTTCA', 'AAAATC', 'CAGGTC', 'AGAGTT', 'ACACTG', 'TTCGAA', 'TCCAGT', 'CCCGTC', 'GATTAN', 'TTAGCA', 'AGCCCC', 'CGGTTA', 'AAGGAA', 'GCACTN', 'AATAGG', 'TGTCAG', 'GCGATC', 'GATACN', 'GTGCCA', 'CGTACA', 'TGAACC', 'ACTTGC', 'TCAAAG', 'ACTATA', 'AACGCA', 'CACCTA', 'CGGCTG', 'TATTCN', 'ATAAGA', 'GGCGAN', 'TCACTC', 'TAGGAC', 'TATACA', 'GGGAAA', 'TAATCA', 'GAAATC', 'TTTCAN', 'AACCGG', 'GCGTGC', 'GCGTCN', 'GTACAT', 'GGATTT', 'GAGACC', 'ACCTGT', 'TATTCG', 'TTCAGC', 'TACCGT', 'CGACCA', 'CCTCAA', 'GTAGTC', 'ATTGTN', 'GCCCTC', 'ACCCAN', 'TTCGCN', 'GCCANN', 'ACGTCG', 'TAGCGA', 'TGGGTN', 'GGACGG', 'CTCTCC', 'CCAGAT', 'CCGAGC', 'GATTTC', 'AACAAA', 'GCATGA', 'TAACGG', 'TCCGAA', 'CCGGGN', 'TTTGCG', 'TAACAN', 'ATTTGT', 'CGTCAG', 'GGTTAA', 'CGATGT', 'AGTCGC', 'GACAAC', 'GGACNN', 'GCGCNN', 'TCGGCA', 'TACACT', 'AACACC', 'ACCTGN', 'TCAATT', 'AAACCC', 'AAGACN', 'ACGTAC', 'AACCTC', 'AGTCCG', 'CGACAA', 'TGCGAG', 'AACCAC', 'CCGCTG', 'TAGGGT', 'CTGGGC', 'ACCCGT', 'GTTTCA', 'ATAATG', 'CGAGGA', 'GAGCCG', 'AGCTCC', 'GGAGAT', 'GAGCAN', 'CCCAGG', 'CTTGGN', 'GCTAGA', 'TGCCAA', 'ATATAC', 'AGAGCG', 'CCGTTG', 'AAACAN', 'TTATAC', 'ATCCCC', 'TTTTGT', 'GCAATG', 'TATATG', 'GACGAC', 'ATCGAC', 'TACTTA', 'GTCTTC', 'TTTAGC', 'CTCTTT', 'AAGTTA', 'TTCTGN', 'TAAAAC', 'TTGAAA', 'TCTNNN', 'GCATGN', 'TTAGAN', 'TAAAAG', 'TGAAGN', 'CGTTCG', 'TGAAGT', 'TAACCT', 'GTCTTA', 'CACTAC', 'TATTTN', 'TGCTCG', 'ACAGGN', 'CAATAG', 'CTTGAT', 'GGAGAC', 'TATGCG', 'AAGTCN', 'GGTGGC', 'CTTCGA', 'ATTTTT', 'TAGGCT', 'TTCTTC', 'CACCCG', 'AGCTAG', 'GGCTCT', 'TGCGCA', 'TTCTAT', 'CTCTTG', 'CAGTCG', 'CTAACN', 'ACCAAC', 'CCCGGT', 'GTTTCT', 'GCTCAN', 'TCGACA', 'GGAAGT', 'AAGTTN', 'ATAGTC', 'TACTCC', 'GATTCA', 'AGAACC', 'AGTCCN', 'GAGTCN', 'ACGAAT', 'AGTGTC', 'TACNNN', 'ACCCGC', 'GTCACG', 'TGTGAN', 'CCTATA', 'GCCGTT', 'GTCTCG', 'GGGCTG', 'CCTTGN', 'GGAACA', 'AGCGTA', 'GTGCCT', 'ACTGGN', 'ACCAAG', 'GCCACG', 'AGATCG', 'ACACGG', 'CTGTAT', 'CGTGAT', 'ACCAGG', 'ACCGGT', 'TCGGTN', 'TAGATC', 'GTCTGC', 'ATCTCC', 'GCGTGG', 'TCGTGC', 'TCGGAG', 'AAGCCA', 'GGGCAN', 'GCTCGG', 'CCTGTC', 'TGGGAG', 'GCACAC', 'GCAGTC', 'AGTGTT', 'GGAGGT', 'CCCTAC', 'AGCGAN', 'TCGTGG', 'TGAAGG', 'GAGTAN', 'ACATAG', 'TTGCGA', 'GTAATT', 'TGATCN', 'TGGATN', 'GGAATG', 'GCGANN', 'GTACGC', 'CTTTGA', 'AGCAGN', 'CTGCTC', 'ATGAGC', 'ATGGTG', 'CAGTNN', 'GAAACA', 'GACATN', 'CTGTTN', 'AACGCN', 'AATACA', 'TTCGGN', 'CTCGAG', 'GGCATT', 'GGAAGG', 'CGGTCG', 'CCGGAG', 'GGGTAG', 'TCATGT', 'ACAGGT', 'TCAGTA', 'CATCTT', 'CAAAAT', 'ACGACT', 'GATAAG', 'CAGCTT', 'TGAATC', 'CCATAC', 'CTTCGT', 'CTCCTN', 'TATTAG', 'GCACTT', 'ATAAGN', 'GCCCCT', 'CGTTGC', 'TCCTAG', 'GTAGGN', 'TTGCCC', 'TGGGGG', 'TCCGTG', 'CATCGC', 'GTAATA', 'TTCTCA', 'CCTCTG', 'GCCTCC', 'GAGATA', 'CAGCCG', 'CATCTN', 'TGTTCC', 'CTCANN', 'CGCCTN', 'CCCGGN', 'CTTTGN', 'GGAATC', 'GATTCN', 'ATGTGC', 'CCGAGN', 'CCGTCA', 'ACCCNN', 'ACATGN', 'TGTTGA', 'GAACCN', 'TCAGAG', 'TTTACC', 'GTCACC', 'CCTAAG', 'GAACTA', 'TCTGGC', 'TTTAAA', 'AGTGNN', 'CTGTCA', 'CATTTN', 'AGGTTG', 'GTACTA', 'TGTCTA', 'CCCCNN', 'GTATCT', 'GGTTCN', 'CAACTC', 'CTACTA', 'CATTNN', 'TGTGAC', 'AGGTAG', 'ACTGCT', 'CACCAG', 'ACAAAG', 'AGGGCN', 'AGCTCN', 'TACAAN', 'ACACTN', 'AAGCGC', 'ACTTTT', 'GTACCN', 'CGCGAT', 'AGCATG', 'GAACGA', 'TTTGCC', 'TTTAGT', 'CATGGC', 'CTTTCT', 'CGAGTA', 'ACTTCA', 'TACTCA', 'AGAACG', 'ATGAGN', 'ACTCGT', 'CCCCAC', 'CCGCAC', 'TGCGNN', 'TCCGAC', 'TGGGCC', 'CATGTN', 'TATTTT', 'CCCGTN', 'GTAAAG', 'GCCAAG', 'TTGCTA', 'TCTANN', 'GGCGGC', 'GCAGTA', 'ATCTGG', 'TGCAGG', 'TTCGTT', 'CCGGAN', 'CTTACA', 'TATAGN', 'AAGATG', 'ATCGTC', 'CCCTTN', 'AGGGCT', 'CGCTAG', 'CAGGTA', 'AGGGAG', 'GTTTTN', 'GCAANN', 'CCCGTA', 'ATGTGT', 'ATGGAC', 'CGGCGA', 'GACCAT', 'GGATNN', 'GTATTG', 'AACCAG', 'CCACGA', 'GTCCCG', 'GTATAA', 'TCGCCT', 'CCGGTA', 'GGCCNN', 'AAAACC', 'AGAGCA', 'ATGATG', 'GGATCA', 'TGATAT', 'CTCTAG', 'CACATA', 'GTGGTT', 'CTAAGA', 'AACTAG', 'GTTTCC', 'AGGCGG', 'GGATGG', 'TTAGTC', 'TTAGTG', 'ACCGCC', 'AGAAAT', 'TAACNN', 'CGCCCN', 'CTTACC', 'GGCCTA', 'GCGTGT', 'CGCACA', 'TAGAAG', 'CTTAGT', 'GAGGTA', 'ACAGAN', 'CTCCAN', 'CCGATG', 'TACCNN', 'AAGCAN', 'CACTAG', 'GACCGC', 'TTTTCA', 'TATCAN', 'ATCCAG', 'GAGTTC', 'CAATAN', 'TATAGT', 'TTATTT', 'GGCGGA', 'CTGAGN', 'GGATCC', 'TGCCCC', 'GGTGTC', 'TATCAC', 'TCCAAA', 'AAAGCT', 'CCGNNN', 'GCAACC', 'AAACGN', 'AGTGCA', 'CCATTT', 'CATGAG', 'CCGACN', 'TGCGGG', 'TGACCC', 'CTTACT', 'CTGAAC', 'GAGAGG', 'TCGTTA', 'GAGGTG', 'ATCGGC', 'CTGACA', 'AATCTC', 'ATCTTG', 'TGTCGA', 'CGTAAG', 'GGGAGG', 'CAACCA', 'GGCAAG', 'GACCTC', 'TTCTGT', 'AACATN', 'GTTAGA', 'CGGACC', 'ATAGAG', 'TGCGCG', 'ACAACC', 'GGACTC', 'AGAGNN', 'GTGCTC', 'AAGTAC', 'AGTNNN', 'AAACCN', 'GGAACN', 'TCATTT', 'TCCCCG', 'TGTTTA', 'TGGTAC', 'TCTGAC', 'TGGTCN', 'CGGCAC', 'TAGCTN', 'CTTTAT', 'CTTTTT', 'CCGTCC', 'ACCATG', 'TCTTAG', 'ATGCCN', 'AGGANN', 'GCAGAC', 'CCCCTN', 'GCCGGN', 'CGATCG', 'GGCGAT', 'AGCGGN', 'GGACAC', 'AACCTG', 'AGAATT', 'CGCACT', 'TTCCTT', 'CATGAC', 'CCGGAC', 'CCCGNN', 'AAAAAN', 'CTAAAC', 'TGCGAA', 'GATGTT', 'AGCCAC', 'TTGAGC', 'TTGGCC', 'GATGTA', 'TTGACG', 'TAATGN', 'ATGACA', 'ATATAA', 'AGCCAG', 'CANNNN', 'CGTATC', 'TCACAN', 'TGTATC', 'CAGCGC', 'GCATGC', 'TTGGTG', 'GGAAAA', 'CCAAGA', 'CCCGAT', 'GTGGCT', 'GGAAGN', 'ATGATN', 'GTACTG', 'GCGTCG', 'ATAGGG', 'TCTTAT', 'GCTACA', 'CGGGAC', 'TTAAAN', 'CTTGAC', 'CGTGCA', 'ATTATT', 'TCGTAG', 'CGACGG', 'GCTGGG', 'GTGTGG', 'CTTCNN', 'GCCTCA', 'AAGGGC', 'AATANN', 'CGGACN', 'GCCTGN', 'CATAAG', 'TGACGN', 'GGTAGT', 'GTATTN', 'ATGTCC', 'AGGACC', 'TTGTTG', 'CAAATG', 'ACAANN', 'ACCTAG', 'ACGGGN', 'TTCAGG', 'AACTGA', 'GGCTCC', 'ACGGCA', 'TCTCTG', 'GAGATT', 'GACTCG', 'GGCAGC', 'GTCCAT', 'AAACGC', 'TAGNNN', 'TTACCT', 'GTCATT', 'GTAGCA', 'TCTCGG', 'AGAATG', 'CCGAAT', 'CGGTCC', 'ACAAGT', 'ATGGTA', 'GTGGCC', 'GATAGC', 'TCAACC', 'TGAGAA', 'CCCGAA', 'TTGCCT', 'TTTACT', 'GTTTTA', 'CAGCTA', 'AATTGN', 'TCATTG', 'CGCACG', 'CGTTCA', 'AACTAC', 'TTAACN', 'ATGTAA', 'GCCATG', 'GTCAGN', 'ATGTTC', 'ACAGAC', 'ATCGGT', 'AAGTTG', 'TGCCGN', 'TAAGGG', 'CAGGGC', 'GTAGGT', 'AACAGG', 'GATTNN', 'GCAACN', 'GTTGTC', 'CCACAC', 'GAAGCA', 'CAAAGA', 'ATTGGN', 'TGATTN', 'TCTTTN', 'CGCAAG', 'TCACCA', 'CATTCT', 'TTGAAN', 'TTGGCN', 'TTCTTA', 'GTCTTG', 'CAAGTN', 'GCTTAT', 'GAAANN', 'GGGCCT', 'TAATAN', 'GCCATN', 'AACCGC', 'CGTTGT', 'GTTGTA', 'TAANNN', 'ACATTG', 'CAGTTA', 'AAATCA', 'AGTGAA', 'CTAAGG', 'ACGTCN', 'ATCCGG', 'CGGCTN', 'TGGAGG', 'GGGACA', 'GATGTN', 'GCTGTC', 'GACAAT', 'TACCGG', 'ATGAAN', 'CGTATG', 'ACTTTA', 'TCGGTA', 'GAATNN', 'CACTGG', 'TATCGG', 'GATGAG', 'GGGTCT', 'GGGATA', 'AGGTGA', 'TTAGCC', 'ATCGTT', 'ACCTCC', 'TGTACT', 'CCGCCG', 'CGCNNN', 'AAAAAC', 'CCTGTG', 'TATTTA', 'CGAAGN', 'CTCTGT', 'TCAACA', 'GGGGGG', 'AACATG', 'CCTAAA', 'ATTATN', 'TAAAAA', 'TGCCTG', 'GCGGTT', 'ATTCTA', 'TCTCCC', 'TCCCTT', 'AAATAA', 'CTAAGT', 'AGTCGN', 'GTTAGN', 'GAATAC', 'ACAGTN', 'GGGAGA', 'GAATGT', 'ATCATG', 'TGCTTC', 'TTGCCG', 'AGTAAG', 'TCCCGT', 'GCATCA', 'TTAGAG', 'GTCTAA', 'GTGTCN', 'CGCATN', 'CGCTCN', 'GAAGTA', 'TAGTTC', 'ATAAAG', 'TTGTAG', 'ACTGTC', 'ACTCGC', 'AGAACT', 'CTTTCC', 'AATTAN', 'AGTATT', 'TTCACG', 'GAGACG', 'GTCCGA', 'CGCATG', 'TCGCGC', 'GTTNNN', 'GTAACG', 'TAACCN', 'CGTGTT', 'TAGAGA', 'TCGTCC', 'CTATGN', 'ATGAAC', 'CCATCA', 'GGACCG', 'GGTTAT', 'CTATTN', 'ATTCGA', 'CTTAAA', 'TAGACG', 'AGATGT', 'TGAATT', 'TTATGG', 'CGGAAT', 'CGCATA', 'CGAAGC', 'GTTGAT', 'CAATCN', 'CGATCC', 'ATGACG', 'ATGCGA', 'AGTTTG', 'AGGTTA', 'TCCCGA', 'AGCGNN', 'GCAAAN', 'GTTATG', 'CCGAAG', 'GGCGCG', 'TCCCCC', 'TACTAC', 'TGCACT', 'GCGCTC', 'CGTGGT', 'ATAATA', 'AANNNN', 'TGCTNN', 'TCTGAG', 'AGAATA', 'ATGTAG', 'ACCTAT', 'AATAGT', 'AATTTA', 'AACGCT', 'TCGTCG', 'CGGGGT', 'GCATCN', 'CGCTCT', 'AGTGAT', 'GAAGCT', 'ATGTAT', 'TGCTTG', 'GACGNN', 'TAGGGC', 'TATAAN', 'AAACTN', 'GTACAG', 'TCTGCC', 'ACGGAT', 'ACTGAN', 'AGCAAA', 'TTCAGT', 'GCGNNN', 'GGTGAC', 'TTACAC', 'ATACTT', 'AACGTC', 'AACATC', 'GTCTAG', 'GCTGGN', 'CTTTGC', 'ACGTGA', 'GTTTAT', 'CTCAAT', 'CGCCAT', 'CTGCGC', 'TGAGGG', 'GTTAAT', 'ACGGNN', 'AATTTG', 'CGTTAG', 'GACGCC', 'CATACA', 'CCTGCN', 'CTGGTG', 'TGACAC', 'CAGTAC', 'AGCNNN', 'TAACAC', 'GAGAGA', 'TAGGGG', 'TCGTCA', 'GTCATA', 'ATTCCG', 'ACTAGN', 'TGACCT', 'ATTTAN', 'ATTCTN', 'AGGNNN', 'GGGATG', 'GTGCAG', 'AGCTGC', 'AACTCG', 'CCCCTA', 'CTGCCC', 'AACTCT', 'ACTCAC', 'AGACGT', 'TAGAAN', 'CCCGAC', 'CACGGT', 'TCGATC', 'TTGCTN', 'TAAGTG', 'CAGACT', 'AGCTNN', 'GCCAGG', 'CCAGCA', 'CGTATT', 'TAAGAT', 'GAGTCT', 'TGAGNN', 'GCAGCC', 'CAGCGA', 'CTGTGC', 'TCCCTG', 'GATGGT', 'CCATTC', 'TGTCNN', 'TCGTTT', 'GAATCT', 'CATTAG', 'TTCGTG', 'CTGCGG', 'CTCGCT', 'GTTGCA', 'CGATTA', 'GCCCTN', 'TTTAAN', 'GAAGAA', 'CTTCAN', 'CCCTGN', 'AACGAC', 'CACTCC', 'GACTCA', 'GTTTAC', 'GCTCCG', 'CTAACG', 'TCGCTT', 'GGATCG', 'TATTTG', 'CTTGNN', 'CGTATA', 'ATCCGT', 'GGTCAG', 'ATCGNN', 'ACACGC', 'GGATAN', 'ATACCN', 'TCAGAA', 'CAAAAA', 'GTTAAC', 'GTGNNN', 'TCCCTC', 'TTTTTG', 'ACAGGG', 'CGTGNN', 'AACCCN', 'GTAACT', 'GATCAC', 'TGGGTA', 'TCCGGT', 'GTATTT', 'AAAAAT', 'TTACGT', 'GGTAGA', 'CGGTAA', 'GATTGG', 'GTGCAC', 'CCTGAC', 'GTAGGC', 'CAGGNN', 'GTGACN', 'ACAATA', 'CTTGCC', 'CTGATA', 'CTAGGT', 'ACACTA', 'TTAGNN', 'GATAAA', 'CGTCGC', 'TACACC', 'ACAACA', 'GTGTGC', 'GGGTCG', 'TTGGAG', 'ATGTGN', 'ACTGAC', 'CGAAAT', 'AAAAGC', 'CCCATC', 'GTCCCT', 'GGGGAG', 'GCCGAA', 'CAAGAC', 'AAGCTC', 'AAGTGA', 'ACCGGG', 'AGATGA', 'TTGAGG', 'AACCGN', 'TGTTGG', 'CATACN', 'CGCGCG', 'CTNNNN', 'CTCCGG', 'TGGGGA', 'GAAATA', 'CACGCA', 'CTACTG', 'TCAGAC', 'CACTCN', 'CAACGC', 'TGCGAN', 'TCAGTT', 'AGGGCG', 'GCCGCT', 'AAATTT', 'TACACN', 'CCCTAN', 'ATTGCA', 'ACAGCT', 'CACCTG', 'CAGGGG', 'GGGGGT', 'CATCCN', 'GACCCC', 'GCGCGG', 'ACGACN', 'GTCGAC', 'ACTNNN', 'TGAGGC', 'TATTCT', 'AGGGTT', 'AAATTG', 'CTAGCN', 'TCTATC', 'GGCAGT', 'GAAGGN', 'TTTGGA', 'CGATTC', 'ACTTCC', 'CCGCAT', 'AGGATG', 'AAGACC', 'ATGTCG', 'AGCCGN', 'GGTANN', 'ACAGCC', 'CCACNN', 'GGGTGC', 'GAAGTT', 'GAAGTN', 'AAGTGC', 'GAAATN', 'TCGTAN', 'TCGTCT', 'TGGGCA', 'CGTGCT', 'CCGGGA', 'ATCAGT', 'AGGGGN', 'AGATAC', 'AGCCGC', 'AGACAA', 'ATTTGN', 'CACGTG', 'ACGATG', 'AGGTGG', 'GTCGCG', 'GGTGGA', 'GTTCNN', 'TGTACA', 'TACCTA', 'GGGATN', 'TCGCAC', 'CTGCTT', 'TAAATN', 'GACCGN', 'TGGAAG', 'TGAGCG', 'ATCTCT', 'TGACTC', 'ACTTGT', 'AACAGT', 'TGTATT', 'GANNNN', 'CTATCT', 'GTCCGN', 'GCACAT', 'TAAGTT', 'AGAGTC', 'CACTAN', 'GAGAAN', 'ATTATC', 'AGCGGA', 'CGGTAN', 'ACTAAG', 'CTTTCA', 'TGTTAA', 'CAGATC', 'ATGCTC', 'ATACGT', 'GAAAAT', 'CCCAAG', 'CGGGAG', 'TCTCGT', 'ACTTCT', 'ATTGAG', 'TATGTA', 'ACGCCA', 'ACGANN', 'ATGGGC', 'CGCAGN', 'GACGAA', 'ACAAAT', 'GCACCC', 'CGCGTN', 'TGAGTG', 'GTCTGG', 'GGGGAA', 'CGGAAG', 'CGCAGG', 'CGTCTC', 'TCCGTA', 'ACGCCC', 'TCGCNN', 'AGGGGC', 'GTTTGT', 'CGGAAC', 'GTCAGC', 'CCCCTG', 'AACGGC', 'CAGTGG', 'GTGTTA', 'TTCAGN', 'CTGTCC', 'CATTAT', 'GTANNN', 'TACCGA', 'ATAAAT', 'GGCACG', 'CTCGTA', 'AATTGG', 'CACAGC', 'AATCTT', 'TCCTNN', 'ANNNNN', 'CGTAGG', 'TAATCT', 'TCCGGA', 'CCTTCC', 'CAACAN', 'TTAAGT', 'ATGGCN', 'GATCGA', 'TCCTGT', 'TAGCGG', 'AGTGCC', 'CTGCGA', 'GCCACT', 'TGTTTG', 'GCAACG', 'TTCGCT', 'TCATCA', 'TTATCA', 'GATGCC', 'GCAACT', 'AGCTCA', 'GGTCGC', 'GCTTAA', 'AGGACT', 'TAATTG', 'ACATCC', 'TGTTGC', 'CTGGGA', 'ACGTAA', 'AGACAT', 'GATCTN', 'TTGACA', 'CACTAT', 'GTTATT', 'GCAGGG', 'ACTGTN', 'GGACTT', 'GGTNNN', 'CGTCCA', 'TTGTCA', 'TAAGTA', 'CTACGG', 'ATTAAG', 'AGTTAC', 'GTNNNN', 'TATGAA', 'GCGTTN', 'CGTCGA', 'TTAATG', 'AATTGC', 'CTTGCG', 'GCGGGA', 'ACAATC', 'GCGAAA', 'GGGTCA', 'TGATAG', 'ATTTNN', 'GTGGAA', 'GCAGCG', 'GACGTA', 'ATATTA', 'CCGGCG', 'GCCNNN', 'GTGGTG', 'CGTCGT', 'CTCCAT', 'TGTGGA', 'GATCGT', 'GGGCNN', 'TCCACT', 'CATGCG', 'CTAACC', 'TTCTCG', 'GGCACA', 'TAATTN', 'AAGTAT', 'CCTTGA', 'CGCTGT', 'TCTTCA', 'TCCATG', 'TTCCAN', 'TGACNN', 'ACACCG', 'ATGCTG', 'CCTACC', 'ACGCGN', 'GATTGA', 'ATCTCN', 'TAGGCC', 'TTCGAT', 'TCCAAG', 'TGTANN', 'GTCTAC', 'CCGGCT', 'CAGCAG', 'CCTGGC', 'GGCTAT', 'CGAGGN', 'CCCTCN', 'GCCGTN', 'CTACGN', 'CTATCA', 'CTCTAA', 'GGGTTT', 'TTTCAG', 'ACACAA', 'TTAATN', 'GGGAGN', 'TGTAAA', 'GGGGAT', 'GCTCTN', 'TTCCAA', 'TCGTGN', 'CGCGGG', 'ATGAGG', 'GAATTC', 'AAAGAN', 'GCCCTA', 'ACAACG', 'ATATAN', 'CCGGGG', 'CGGNNN', 'GTGCTA', 'AAAGGA', 'GTCTGT', 'ATCGCT', 'TCCCGC', 'AGTAAN', 'AGAGTA', 'TTGCCA', 'CATGGG', 'GCCAGT', 'GCATTG', 'CAACGN', 'CAGCAA', 'GTCGGC', 'CATGCC', 'CGAATA', 'AAGAAA', 'ACGAGC', 'AGGCTC', 'ACGCTT', 'TATATA', 'GTTGCT', 'GTAAGT', 'GCAAGA', 'GATCTC', 'AAGGAN', 'ATCTNN', 'CCTTTA', 'GCCAGA', 'TGTAGN', 'TATGCA', 'GTGGAT', 'CGTCTA', 'CAACTT', 'TATAAT', 'GTCACT', 'TAGGGA', 'GGATAC', 'CCCATT', 'GTATCA', 'TTTCTT', 'ACATCT', 'TTGTCG', 'TTCCTG', 'CCCACN', 'CCATAA', 'TTGGCG', 'ACACAN', 'ACGGGG', 'ATACGC', 'GTGAAA', 'AGTCAT', 'ACCTAN', 'GAGTGG', 'CCTGCC', 'CTATTT', 'CTTATG', 'TGTTTN', 'CGATGN', 'CAAACA', 'GGCAAA', 'CATCAG', 'GGTTTA', 'AGGCTT', 'CTTCTT', 'AACGTN', 'CAGGCG', 'AGCTTC', 'GCAAAC', 'ATTCNN', 'CGTACG', 'TGGCGN', 'GAGGAT', 'GGCCTC', 'AATNNN', 'ACTANN', 'GCAAAT', 'GACACG', 'AACGAG', 'CAACAT', 'GACCAG', 'TCAGGC', 'AGGAAT', 'GCATTC', 'CCCTNN', 'CTATNN', 'GAAAAC', 'CGGTCA', 'TCTACC', 'AATGTC', 'TCACTN', 'CCTGAN', 'TAAATC', 'GGGTTC', 'AATTCC', 'CAGAGN', 'TGCAGT', 'ATCCAN', 'TTATTN', 'CTTAAN', 'TTTTTN', 'ATACCG', 'GATTTT', 'TATCAT', 'CTGGCA', 'CTGATC', 'GGGTCN', 'ACGCCT', 'TTTGAA', 'CTGCAT', 'GTTACG', 'GACGCA', 'CAAAGN', 'CTAGAA', 'GAGCAG', 'CACAAC', 'TAGCCC', 'AGGTAN', 'GAACCA', 'TTGGAA', 'ATTGGT', 'AGTTGA', 'ATTGAT', 'TCTGCN', 'TTCGAG', 'ATGGCA', 'CTGGNN', 'TATAGC', 'TATAGA', 'CAAGGC', 'GCGAGA', 'CATCAT', 'CCTCGN', 'GTGAAN', 'TAGATG', 'GACGAT', 'GCTACT', 'GAAGCG', 'TTTTGC', 'GCTCAC', 'GCGTCC', 'GTCGGA', 'GAAGTG', 'TGCGTN', 'AGGAAG', 'ACTTCN', 'CCAAAC', 'GGGAAG', 'TATTNN', 'ATCAAG', 'TGTACN', 'AGCTTN', 'CAAGCG', 'GCGCTG', 'GATTCG', 'TCGCTG', 'TTGGTA', 'TTCCGC', 'TAGCTG', 'CGAATT', 'AATCTG', 'ACACAG', 'GCCACN', 'TTGTGA', 'CGGCGT', 'AGTACN', 'GTATGA', 'ATCTAG', 'GGACAT', 'TCCACN', 'GACGCG', 'ATGTCA', 'CTCACN', 'TTGCTT', 'TAGAGG', 'AATCCG', 'CTCACG', 'GTAAGG', 'AAGGCT', 'ATGGAG', 'TGGGGT', 'ATTCTT', 'TAGCCG', 'CCCTGG', 'ATAATT', 'CCGAGT', 'GGGGTC', 'ATCCTT', 'CTGGTC', 'TCTCTN', 'ACCCCT', 'CCCGGC', 'CGAGCG', 'ACGAGN', 'GAATTN', 'GCCCTT', 'AAGTCT', 'CGCATC', 'CTTCCG', 'AATATN', 'CAAANN', 'CGTANN', 'CGGTAG', 'GGGGCT', 'ACAGTT', 'CGCGTG', 'CACCGT', 'ACCTCG', 'CGTTCT', 'TTGTNN', 'ACCAAA', 'TGTTTC', 'TTTCGT', 'AAACAT', 'CCGAAA', 'ACAGTC', 'TTTCTC', 'AACGGT', 'GTATTA', 'TGGTTC', 'TGTATG', 'AGTTAA', 'GACACC', 'CTGTGA', 'GTCCAC', 'CGACGC', 'TCCTCG', 'ATNNNN', 'TTTAGG', 'ACCACG', 'ACTACG', 'CTCGGT', 'ATTANN', 'GGGGCA', 'CCTACN', 'TAAGAG', 'CCGAAN', 'TTGTAT', 'TCGATN', 'GGAAAG', 'TTAACC', 'AGTCGT', 'CGAGAA', 'CATATT', 'GTGCGC', 'AGGAAA', 'CATTCG', 'GACCAC', 'TAACGN', 'TCCNNN', 'CATCCA', 'GAAAAA', 'CGCGAG', 'CGAATN', 'AGTTAT', 'ATGCAT', 'TTTGTC', 'CTTTGG', 'ACCCAT', 'CACTGT', 'CACCTT', 'CGCGTC', 'AGCAGG', 'ATCCAA', 'GACCCA', 'GTGGNN', 'GAGNNN', 'CCTGNN', 'CGCAAA', 'GTCGGT', 'AGGAAC', 'GTTCTC', 'TGTGGT', 'CTTCTN', 'AGTTCT', 'TGAACN', 'CCCCCN', 'GCCCAA', 'CTCGNN', 'CCAGTN', 'GACTAN', 'CCTTAN', 'TATTCC', 'ACAGAA', 'GAGGGN', 'TCAAGC', 'TATATN', 'CGGTGC', 'GACGGT', 'CAAAAC', 'CAAAGT', 'GAGTTN', 'ATGTTT', 'CCTAGA', 'CAGATT', 'GCTTTC', 'GGCTAG', 'CGCAGT', 'CTCAAA', 'ATAAGG', 'GAGTGT', 'TTATAT', 'TCANNN', 'TGGGCN', 'CGTGTA', 'AATGTA', 'TGCGTA', 'TCGGCN', 'AGCCTT', 'TAGCTA', 'ACCCCN', 'CTATTG', 'GGGAGC', 'GCCGGC', 'GCCGGA', 'CCCGCT', 'CTCAAN', 'GTAGTA', 'TCCTTN', 'ACCCCA', 'AGCGAA', 'GCGGNN', 'TGCCGG', 'TCTAGA', 'CCGAGA', 'CATTAC', 'CCTGAG', 'TCGATA', 'GGGCTN', 'CATGGN', 'GAGCTN', 'TAGCNN', 'CCGCGG', 'CCAATG', 'TGAAAG', 'ACATCA', 'TCCAGC', 'AGGAGC', 'ACTGCA', 'TACCAG', 'CATGCA', 'TTANNN', 'CCCCAN', 'CAGAAT', 'GATTAG', 'GTATTC', 'TGCGTG', 'TTTTCT', 'TCTTCG', 'GGGTGG', 'ATGCCC', 'CAATTT', 'TGAATA', 'GGTTTC', 'TCGCGN', 'CTAGCA', 'TTGAAG', 'CAGTGN', 'TGCGCN', 'GCACGT', 'CCCCCA', 'CTCCGN', 'GTAGTT', 'ATCCAC', 'TGAGCC', 'TCACNN', 'CTAAAT', 'GCCGTA', 'ACGGTA', 'CTTGCN', 'CCGATT', 'AAATCC', 'AACCTA', 'CCAGGA', 'GATCCC', 'CGTGGC', 'TCGCAA', 'AGGACN', 'TAGGTG', 'AGACTN', 'GATTAT', 'CTTGTC', 'GTCGTA', 'CCACGG', 'TGTCTC', 'CCTCGA', 'GTGCGN', 'TCCTGG', 'GCGGCN', 'CTGCCT', 'GGATTN', 'GTATGT', 'CAAGTA', 'TAAGTC', 'ACAGGA', 'TTACCA', 'TCTGNN', 'AAGACT', 'CTGAGT', 'TGAANN', 'GACTGT', 'GATGCA', 'GTGTCA', 'CCAAAG', 'CATCTG', 'GGGCAC', 'GGTGAT', 'CAAACG', 'GTTGGT', 'TTAAAC', 'CATGGT', 'CGTGCG', 'CAGTAN', 'GTTCAG', 'TGTCAA', 'GACCTA', 'TGGCAN', 'AACTTC', 'TAAACT', 'TTCAGA', 'CGTTGN', 'CTTCCT', 'GGGGCC', 'CATAGG', 'GCGTAT', 'CTGAAG', 'ACGAAG', 'AGGCCG', 'CGGAAA', 'AGGAGG', 'TAACCG', 'GCAATN', 'CTCCGA', 'TCTCTA', 'CCTTAT', 'TACCAT', 'GCTCGT', 'GGTAAG', 'AGGAGN', 'CCGTTA', 'GCTGAA', 'GGATAA', 'TACCAA', 'GTTTGN', 'CCTTAG', 'AGAAAC', 'TATAGG', 'CCTGGT', 'GGTTGG', 'GACGAN', 'GGTGNN', 'CAGATN', 'AAGAGT', 'AAGCAG', 'ATCCTC', 'CGCCCA', 'CCGATN', 'TATTCA', 'ACATNN', 'GTAGAC', 'AAGCTG', 'TCCGGN', 'CAAGGG', 'GAGCTC', 'CATCAN', 'GAAACT', 'GAATAN', 'AAATGC', 'AGCACT', 'ACTCTC', 'GCGGAN', 'GATAAN', 'GAGCTA', 'CGCCAC', 'TCTACN', 'TCACTG', 'CCGTCT', 'TTGGGN', 'GCTAAN', 'GTCCGG', 'CACTCT', 'ACAAGN', 'GCAGNN', 'GTTAGC', 'AAAACA', 'GAANNN', 'CGGAGN', 'TGAGTC', 'ACAAAC', 'AACCAN', 'CCTTAA', 'CATTCN', 'ATTTGC', 'GTTCCC', 'GCCATT', 'CCCCGT', 'TACGGG', 'ATGGGT', 'ATACGG', 'ACCGAG', 'TTCANN', 'ATCCAT', 'GACTTN', 'CAGTCA', 'ACCTGC', 'CGAGGG', 'TGCATC', 'TCATCT', 'CCGCAN', 'ACTCAA', 'GGGCCC', 'CTCACA', 'CAGGAC', 'CNNNNN', 'CGCTCA', 'TCCTTA', 'TCTGCA', 'TTGGGG', 'GGTCTC', 'CCTATT', 'CGAAGA', 'TTTCGG', 'TATGNN', 'AACAAT', 'TGATNN', 'TAGATA', 'GTGTCG', 'CGCCGC', 'GAAGGT', 'ATTGGG', 'CTTATC', 'TCTTTA', 'AATTNN', 'GCTGCT', 'CGACAC', 'GCAGAA', 'CGCTGG', 'ACATCG', 'TGTGTA', 'GGTTNN', 'GGTTTN', 'GTGTGN', 'AATGTN', 'GCTGTN', 'GGAGTG', 'CCGCCN', 'CTACCT', 'AAACGT', 'CCTTTG', 'AACACG', 'ATTAAC', 'CGACTG', 'CTGCAC', 'TGGCGG', 'AGTGTG', 'CGACAT', 'AGCCAA', 'TTAGAC', 'CACTGN', 'CGCGCN', 'AATCGN', 'TGGTGT', 'CACACC', 'TAAACG', 'TCAGGG', 'CGCCTG', 'ATACAT', 'CCCTGC', 'TTATGN', 'GCGAAT', 'CAACCT', 'ACCCTG', 'CCGTGN', 'GGCTGT', 'TTACAA', 'AATAAC', 'TTCTGA', 'CGCTAT', 'TTTAGN', 'TGTCTG', 'TTATAA', 'GAGGCC', 'TGATAC', 'TGGCGA', 'TATTAA', 'TTTAAT', 'TGCTGA', 'GCAGTN', 'GCCTGG', 'ACCNNN', 'TGGGAA', 'TCAACG', 'CCGCGN', 'GGAATN', 'ATAGNN', 'TTCTAN', 'TTGGNN', 'TATTAC', 'GTTCTN', 'ACCGCA', 'GATATG', 'CCCATA', 'TTGAGA', 'AGCGGG', 'CGGTTT', 'ATTAGC', 'ATCCCT', 'GATTCC', 'GTTGGG', 'AGGGTN', 'TGCCTC', 'ATAATN', 'CTACAC', 'GGGTCC', 'CAGAGG', 'GGGACT', 'ACTGCN', 'GCTCAA', 'AGTACT', 'GGCCGA', 'TCTCTC', 'GCCGCN', 'TAGAGC', 'TACAGA', 'TGTGNN', 'TGACTN', 'GAAAGG', 'ACTAAC', 'TGAAAN', 'TGGTGG', 'TAGAGT', 'TCCTCC', 'ATAAGT', 'GTTANN', 'TGCTTN', 'GGGACG', 'GACGAG', 'ACCGTG', 'TGTGCN', 'CCAGNN', 'CTAATN', 'GGAGGA', 'ATCTGA', 'GATCGC', 'CCGTAC', 'GTGTCT', 'AAGTCA', 'ATGATA', 'CTCTGC', 'TTCTGC', 'CTGCCN', 'GACATA', 'AAGTGT', 'GCTCAG', 'AGCTAN', 'GGACCN', 'CCGTNN', 'ACCGTC', 'CGGCCG', 'CACTAA', 'GAGGNN', 'CTTCGN', 'GCTATA', 'CCATGC', 'TTTGAG', 'GCTTAC', 'ATCNNN', 'GGCAAC', 'CAGACG', 'TACCCA', 'GAAGAC', 'GCCCCG', 'AAAGAA', 'CTCTTA', 'GCCCGN', 'AGATGC', 'GCAGGC', 'GGAGAG', 'CTTGCA', 'CGTGAG', 'TTTACA', 'CTACTC', 'AACTTG', 'GCAAGN', 'CTGCCA', 'TCTTCT', 'AAGTGG', 'ATCTTA', 'AGATCC', 'CGAATC', 'GTAGAA', 'TTTCCA', 'CAGTCC', 'GTTCTT', 'ATATCA', 'ATTTCA', 'ATTTCG', 'AATTCG', 'CTTNNN', 'TCTACG', 'GCCCNN', 'GTACGA', 'TACCTC', 'CCCAAC', 'GAAGGC', 'CCAANN', 'GACAGT', 'TCGACN', 'CAGCCN', 'CGCCAA', 'GGAAAN', 'GTTGGC', 'AGCAGA', 'ATAGAA', 'CCGCAG', 'CTGTTG', 'TTTCCT', 'TTGTCT', 'ATCCGN', 'ATCTGN', 'TCAAGT', 'ATCATN', 'ACACGA', 'AGACCG', 'AGTCAC', 'AAAANN', 'GAGCAT', 'ACTGAA', 'TAGTGG', 'AGGCAT', 'TACAAG', 'GACAGA', 'GCCGGT', 'GCACAA', 'CTTGTT', 'CTCTCA', 'TTGCAG', 'ACTTGA', 'GGCCTG', 'AGACNN', 'TGTGAG', 'GGCCAT', 'CTGATG', 'AATCAN', 'CGAACC', 'AGTTGG', 'CTGGCG', 'GGCTTN', 'ATCAAC', 'GTATCN', 'GTTTGG', 'GTGGGG', 'GAATGG', 'GGTAAC', 'TGCTCN', 'ACACCN', 'CCTGAT', 'CCTAGC', 'CAACTG', 'CCAGAC', 'TGAGGN', 'ATCGCC', 'GTTTTG', 'GGGAAC', 'TCTCGA', 'TTGGCT', 'TATCCT', 'CACCGC', 'GCCCGT', 'CACGGG', 'CTAGTG', 'AATCAG', 'GGGATC', 'ATGNNN', 'TACTNN', 'CGCTAN', 'GGTGCA', 'AGAACN', 'CCGCCA', 'ATCGTA', 'ATAGGN', 'AAGACG', 'TCATAC', 'GTAACN', 'AGACAC', 'GACTAG', 'TCACGG', 'TTGGTC', 'GTATGN', 'ATAGAT', 'TATCTA', 'ATTTAA', 'CAAACT', 'CCGACA', 'GACCCT', 'AGTCAA', 'GCGTTG', 'AGGTGC', 'TAGTAA', 'TATGGG', 'AGTAAA', 'ATTCCN', 'CAGATG', 'GCGCAA', 'GAAAAG', 'CTTCCC', 'CTCTTN', 'TTCAAC', 'TCGTGA', 'GAACCC', 'TCAGCA', 'AGGCAC', 'TAATGG', 'TTTCCN', 'ACAGCG', 'TTCACC', 'ATCTAA', 'CGGGCA', 'CTTGTN', 'TTACGN', 'CAATTA', 'CAGANN', 'ATTAAT', 'CGGGGG', 'ACTCTT', 'CTGANN', 'GCTTGA', 'TGATGC', 'TCTAGT', 'AGACGG', 'TAACGC', 'TGGTAN', 'GAACGN', 'TAGATN', 'CGAGAC', 'CAAGGT', 'CGCCCG', 'TGGGTG', 'TTCGGG', 'TGCGAC', 'GGATTA', 'CTTAAG', 'TCACCN', 'GCAATT', 'AAGGGG', 'CTCTTC', 'TACGTC', 'CCCGAG', 'GGAGTA', 'GTCGTT', 'TGTAGC', 'TCGAGC', 'TTATTC', 'TCCTCA', 'CTTTAA', 'CTTTTN', 'AATATC', 'TAAGCN', 'GTGCTG', 'TACTAN', 'CTGTGT', 'AGAGAT', 'GATACA', 'GCCTAG', 'TCGGGN', 'CACGTN', 'TGGCTC', 'GCTANN', 'CGTCTT', 'TGCANN', 'AGCGCG', 'ACAATG', 'GTGAAT', 'GTCTCT', 'CATAGT', 'TAGGCA', 'TGTAAN', 'TCGGAA', 'CGCCAG', 'CTATTA', 'GATTGT', 'ATCTTT', 'GACGGN', 'TTTCTA', 'TATTGC', 'AGCATT', 'CGCGGA', 'CCGGCA', 'TTCGNN', 'CTTGAN', 'ACTGCG', 'ACCTTC', 'TCGAAC', 'CCTCTA', 'CCGCTT', 'TAGTNN', 'GGGCGN', 'TCGCGG', 'ATACAN', 'AGCTGG', 'TTACTT', 'CGCTCG', 'CAATGN', 'ACGTTT', 'GCCCTG', 'CGTACN', 'TACAGC', 'AAGCAA', 'AATGAA', 'AATTTN', 'GCATCG', 'TCGCCA', 'ACGACG', 'GCTCAT', 'AGAGAG', 'ATTGCT', 'CATTGA', 'GCTGGC', 'CAACGG', 'AAATAC', 'CGACTT', 'CAGAGC', 'CCTANN', 'TTAGTT', 'AGCGTC', 'AGATTC', 'TGACCA', 'CAGCAC', 'TATGGT', 'CGGCCN', 'CATAAC', 'TCATNN', 'GCGTAC', 'ACGCGA', 'GCCGAT', 'TACCCT', 'CCTCTT', 'CTAGGA', 'CCTTCT', 'GGCCCC', 'GTTCAA', 'AGCGAG', 'AGGTCN', 'CAAGAA', 'ACTCGA', 'CATCTC', 'GGCAGA', 'TCATAN', 'AGCAGC', 'ACTCCC', 'CTAAAA', 'AACAAC', 'GATGAT', 'TTTAAC', 'CACCTC', 'CAATGC', 'CAGACC', 'GCCCGG', 'GTGTTC', 'CCCGTT', 'TATGAG', 'GCGAAN', 'GCCCAC', 'TCTACA', 'TGACAG', 'ATAACT', 'GTAGCG', 'GCGTCT', 'CGCTAA', 'CGTCAA', 'ATTTAT', 'GAAAGT', 'GCCGCC', 'TGCCNN', 'ACACNN', 'CAATCA', 'TGATTC', 'CATCCG', 'GCTGAN', 'AGAGCT', 'GCTGAG', 'ATGGCC', 'CACGAG', 'GATTAA', 'GGGTAC', 'CGCGAC', 'GAGTCG', 'ATGGTC', 'GTGGTA', 'GAGTCA', 'TGCTCC', 'GCATAG', 'CGTGAC', 'AAGCCN', 'GCGGTG', 'AGTACC', 'CGCGGT', 'ATCTGT', 'TGCCCN', 'GGGTGA', 'CGTAAT', 'TGGTGA', 'CACAAA', 'CGAATG', 'CGCGTA', 'GCACTA', 'TACGTA', 'TAGCGT', 'AGTGCG', 'GGCNNN', 'TGTCGG', 'CGTTAC', 'TGTAGA', 'AGTGCN', 'TTGGCA', 'TGTCAN', 'CATTGT', 'CGCAAC', 'GCAAGG', 'GGGGTT', 'ACAACT', 'TTGACC', 'ACTTGN', 'TGGACA', 'GCGGTN', 'TTTGGT', 'GACCGA', 'TGNNNN', 'CGTGTC', 'GAATGC', 'CGGGAA', 'CAACAC', 'TGCGGT', 'ACTGGA', 'GTCAAG', 'CCCCTT', 'TGCTTA', 'GCCGNN', 'TGGACN', 'GAGTAC', 'CCTCTN', 'CAATAC', 'CGTGAA', 'GTTTAG', 'AAGCNN', 'GTGGCA', 'CTTGGC', 'AAATGN', 'ATACAC', 'TTCAAT', 'TTAAGN', 'AAAATT', 'GGAGCT', 'GGGAAN', 'AGTAGN', 'GATGGC', 'TAGTCA', 'CATCCC', 'TGCTAG', 'CAATNN', 'AATCCC', 'ACACAT', 'TGAATN', 'TTGTTT', 'GAGTAG', 'TCTTAN', 'TTATAN', 'CGAGGC', 'GTTCTG', 'ATACAG', 'AAGTAG', 'GATCCG', 'TGGAGN', 'TACCCN', 'CCGTGC', 'GTTTCG', 'GAATGA', 'TCAACN', 'CCTGCA', 'CGCAAN', 'CGATAA', 'TAAGCA', 'GAGATG', 'GACTAA', 'GGTGCT', 'CACGCG', 'CAATGG', 'TAAACA', 'TTTTGG', 'GCGTGN', 'ACCACA', 'TTTTAG', 'CCCCAA', 'GGGCGA', 'GCGGAT', 'TCGGTT', 'TCGACG', 'AACGAT', 'CCTACA', 'CCAGTT', 'TTAGTN', 'TTGATT', 'TTTTTA', 'CTCTAC', 'TACTCG', 'TAGTGA', 'CCAACN', 'ATTAGG', 'CTCGAC', 'TTTCAT', 'CCTCCT', 'CGNNNN', 'ACGCTG', 'TGGAAN', 'CTCAGA', 'ACTAGG', 'ACTCCT', 'GGGGGA', 'TTGCAN', 'TTGTGT', 'GCCACC', 'TGAAAA', 'TACCCG', 'AAAAAG', 'TTCATC', 'CGTTAN', 'TATTAN', 'TATCNN', 'CCAATA', 'TGCTGT', 'ACTACN', 'ATATTT', 'CCTNNN', 'GTAATC', 'CACAGA', 'ACGACC', 'CACGGC', 'CCCTTA', 'CAGGAT', 'AGGCGC', 'CAGAAA', 'ATTAGA', 'ACGCTN', 'GATCTA', 'GGCAAT', 'AGTTAG', 'AATCAT', 'CCGCGA', 'CTCAGC', 'CAGGTT', 'TCAANN', 'GCTTCN', 'CTAAAN', 'TTCCGG', 'CTATGG', 'AAATAN', 'ATGTCN', 'TCCGTN', 'GAAGGG', 'GCCGCG', 'ATGCTN', 'ACGGCG', 'CGCTCC', 'GCTTAN', 'GAGGCG', 'CTGTGN', 'TTAACG', 'TTGAAC', 'TTTTNN', 'TCCTAA', 'TATTTC', 'CAGNNN', 'AATGCA', 'TTCTCC', 'ATTAGN', 'ATGANN', 'TAAAGC', 'CTGGAT', 'ACTGGG', 'CACCGN', 'CTAGGN', 'ATTCGC', 'TCACAT', 'AACTGG', 'GCTAAA', 'GTTACC', 'GTCCTN', 'TCCGTT', 'CATACG', 'CAGGCT', 'TTTGAN', 'CATGAN', 'GATACC', 'GTCCCN', 'CACGTA', 'ATGACC', 'ACTCNN', 'GCTGTA', 'CGCACN', 'GCGAAC', 'AGTTGN', 'CACACT', 'ATCGAG', 'TAAAGA', 'GCGGGT', 'CTACNN', 'TTGGAT', 'GTCGTC', 'AAGAGN', 'TGCACC', 'GCGATT', 'CCCTTC', 'TCTAAT', 'TCGTTG', 'ACCCGN', 'CTTGGT', 'ATCGCG', 'CTGCGN', 'ATACCA', 'ACCTGA', 'CTGTAC', 'GTGGGN', 'AATTAC', 'ATAGAC', 'TGATTA', 'CTACCG', 'GATANN', 'TGACTA', 'AAANNN', 'CTTCAC', 'GTATCG', 'CCATAT', 'GCAAGT', 'AAACCT', 'TCTCAT', 'ATTCAC', 'TATAAA', 'ATTTGG', 'ACCCGA', 'CTACTT', 'TCGCGA', 'AGACGA', 'TCACTA', 'AGATTG', 'ATTCTC', 'GAGCAC', 'GTTCAN', 'TTTGGG', 'ACCATA', 'CGGGTC', 'GTTCCN', 'GAAGTC', 'CTTGTA', 'CGAAGG', 'ACGATC', 'CCCAGA', 'AAATGT', 'CGCTGC', 'ATCTAT', 'CTCAAC', 'TCGGCC', 'TGCCTA', 'ATGTAC', 'AAGATT', 'TAATAA', 'CAGCTC', 'CTTACG', 'TCTTTC', 'CAACTN', 'CGAACG', 'CGTGGA', 'TCTGTA', 'AAAACG', 'GTGGGT', 'CCAGCT', 'GCTCCN', 'GTACCT', 'GCTTGN', 'CTCTCG', 'CCAAGC', 'CAGAAG', 'GGTATA', 'TGCACA', 'GCCTAC', 'TCCGCA', 'GTTGGN', 'GTGATG', 'CCCCCC', 'TAGTGT', 'GCATTT', 'TCGTTN', 'AATTTT', 'AAAATG', 'ATGAAA', 'TCTGAA', 'GAGANN', 'ATAGGT', 'GGCATC', 'ATAGTT', 'AGACAG', 'CATATG', 'ATGCAA', 'CATAAN', 'GGCTTA', 'TGGATC', 'TACTGC', 'TGCNNN', 'GGCATG', 'GGTGCC', 'TCCGCC', 'ACTCAN', 'CTGCTN', 'TGTTAC', 'TCCCGG', 'AGATTN', 'GGTCCT', 'ATTGTA', 'TTAAGC', 'AGGTAA', 'ACATGA', 'TTAANN', 'CGATCT', 'AATCTN', 'ATATTC', 'ATGGGA', 'TTCCCN', 'AATCAA', 'CGATTT', 'ATACGA', 'AAAACN', 'AGTTTC', 'AAGCCG', 'CGAAAG', 'ACCAAN', 'TAGTGN', 'TCCCAC', 'CACAAG', 'TGTTCN', 'TCAAAC', 'GGCGNN', 'GTCACN', 'GTTATC', 'CCATAN', 'AATAAG', 'TACGAN', 'TCAATA', 'TACGTG', 'TAAGCG', 'CCTCGT', 'TCTGCT', 'ATTACN', 'AAATTC', 'AGTCGG', 'GAACAG', 'GAAGCN', 'TAGGTN', 'CTAAGN', 'ACCAGA', 'GAGGGC', 'GGGTAN', 'ACGAGA', 'TAGACN', 'TCGCAT', 'GACACA', 'GCATAT', 'TAGTTA', 'TTGTGN', 'AATCGC', 'TCTTAA', 'CCATAG', 'AGATGG', 'GGAGAN', 'AGCCCG', 'TACTAG', 'TCCAAN', 'TAGTCN', 'GGCTCA', 'ATTTAG', 'TATGAC', 'AATGTG', 'CCCCGN', 'TCCGCT', 'TAACTA', 'CTTTAG', 'ACCCTN', 'CGTCNN', 'GGCCAC', 'TCACAC', 'TAGTTN', 'AGAATN', 'AAGTTT', 'ACANNN', 'TTTGTN', 'GAGCGG', 'TCGCAG', 'TAAAGG', 'CACCCN', 'GTTCAT', 'GACAAG', 'ATACTN', 'AAGGAC', 'TACACA', 'GCCCCN', 'CGTCAT', 'ATTTGA', 'GCATGG', 'CACCNN', 'AAGAAT', 'CCACAG', 'GGGTTA', 'ATTCAT', 'GCGCCA', 'AGATAT', 'CATCGT', 'TCGAAG', 'ATATNN', 'TATCGT', 'CTCCGC', 'GTGTAA', 'ACCACC', 'AAGCGT', 'CTAGTC', 'TTTCAC', 'TGATCC', 'GCGCAG', 'TCATCG', 'AGTATC', 'ATCCTG', 'TTACCC', 'ATATCG', 'ATTGCC', 'GAACAC', 'AGAGAN', 'AGTAAC', 'TAATAT', 'CTCCCT', 'AGCGGC', 'ATATCC', 'ACGAGG', 'GCTATG', 'TCTAGC', 'GCTTTT', 'CTCTCN', 'TATACN', 'ACTCAG', 'CGGAGA', 'CCGTTC', 'ATTACC', 'CGTCGG', 'AGACGC', 'CTCCTA', 'TAAGAA', 'AGACCC', 'GAAACC', 'CAAGAG', 'TAACTC', 'TACTAT', 'ACTCTG', 'ACGNNN', 'TGGCNN', 'CGGGCG', 'TTAGGC', 'ATCGAT', 'TGCGTC', 'TTGAGT', 'CCCTAA', 'ATCTAN', 'CCTTNN', 'TCAAAT', 'TTACGC', 'CCGACG', 'CACCTN', 'GAGACT', 'GGGTGN', 'CTTCTA', 'CAGCNN', 'CGGCAA', 'GCACCG', 'TGTACC', 'TTATCC', 'CCTCAG', 'CATGTA', 'ACGGCN', 'GCTGCA', 'TGTTTT', 'AAGGAG', 'GTGCAN', 'TGCTCT', 'CATCAA', 'TCGGGC', 'AATCCN', 'CCAGGG', 'GTAGCC', 'AAACGG', 'AGAGAC', 'CAAGTC', 'GGCGAG', 'CCCAGN', 'ATTACG', 'GCTAGN', 'GCATAN', 'TAGCGC', 'TCCAGG', 'GGACTG', 'TCACGT', 'AAGCTT', 'AACCTN', 'CTANNN', 'GCCGTC', 'GTCCGT', 'TTACTN', 'ACTGAT', 'TTGTCN', 'TCCCNN', 'GATCTG', 'CGTCCC', 'TGTAAT', 'TCAATN', 'GGACCA', 'AATGNN', 'TCCACA', 'CCGCCT', 'AAGAGC', 'ACGCNN', 'CCGCNN', 'TTCTCN', 'GATCCA', 'TACTTC', 'GAGATN', 'CCTAGT', 'GAAGGA', 'AATGCG', 'TATATT', 'GGAATA', 'CGCTNN', 'TTGATN', 'AAGGTC', 'CTCGAA', 'CACCAN', 'ATCAGN', 'TAAGAN', 'GCGCCT', 'TAAGGT', 'CACACG', 'AGCAAN', 'TCATTC', 'TAATNN', 'TCCAGN', 'GATCCT', 'GCAGGA', 'TTCGAC', 'TCTAAA', 'TAGGNN', 'GTGTAG', 'TATGTG', 'TTGTTC', 'TGTTCT', 'AGATGN', 'ACTTAT', 'GACAGC', 'ACCTGG', 'TTCCAT', 'CTGGGG', 'TGGCTN', 'GGCTGN', 'TTCGAN', 'CAAATA', 'AACCCG', 'CGGCAG', 'ACGGAG', 'ATAGTA', 'GAATTG', 'AGACCA', 'GGCACN', 'ACAAAA', 'ACGCAT', 'GCTCGA', 'CACATT', 'AAGCCT', 'TCGAAN', 'AGCCCA', 'CGCTTG', 'GCTCCA', 'CATTTA', 'TACCTG', 'GCGCTA', 'GGTTAC', 'AAATAT', 'AAGATA', 'AACTTA', 'CACAAT', 'GGAGTC', 'ACCACT', 'ACCGGA', 'GGCCGG', 'TAACTG', 'CACTNN', 'CTAGAT', 'AAATTN', 'ATATTG', 'GTCGCC', 'CGAGCT', 'CTGAGG', 'CTCGGG', 'TGGTCC', 'GGCGTC', 'CTCATC', 'GGTCGT', 'AAAGTA', 'GGAGTT', 'ACGTNN', 'CAGTCN', 'GAGAGT', 'TAGGAT', 'GCACCT', 'ACAAGG', 'GATGNN', 'TACAAT', 'AGANNN', 'CTCGCG', 'GTATCC', 'ATGATC', 'TTGTAA', 'ACGCTC', 'CGGAGG', 'TTATAG', 'TACTAA', 'AGAGTN', 'GTAGNN', 'TGCTGG', 'GTGTCC', 'TCTATA', 'TCGCTC', 'TCAGAT', 'TGGTGC', 'CAGTTC', 'CTCCCG', 'AACGTT', 'CTGNNN', 'GGCCAA', 'ACAAGC', 'TGAACA', 'GTATAC', 'CCTATN', 'AGAGGC', 'CATTTG', 'AATGGT', 'TAAACC', 'ACCCAA', 'CTTAGC', 'CAATCT', 'TATCGC', 'TCTTAC', 'TTTTGN', 'ACTTAA', 'TGTGTG', 'CGGGCT', 'TGTCTN', 'ATTCAN', 'ATTTCC', 'CTCACC', 'AAAGNN', 'CTAANN', 'TGATGT', 'GTTCGN', 'AACTTN', 'GTGGTC', 'AACTNN', 'CTAACT', 'AGCATC', 'TACGGC', 'GAGCGC', 'TTAGCG', 'CGTACC', 'CTCGAT', 'GAATTA', 'CCCGCA', 'AGCTGA', 'GACCTG', 'ACATAC', 'GCTTCG', 'GCTTGC', 'GAGCNN', 'ATTCGG', 'CTGTAN', 'GCGCCG', 'AGTANN', 'AGCCGT', 'GAATGN', 'AGGTTN', 'GCAGGT', 'CTTGGA', 'TTCATT', 'GGACCT', 'CAGCTN', 'CTGTAG', 'TAACCA', 'TGGCTA', 'GTCTCC', 'AGAATC', 'CGAAAA', 'AATCTA', 'GAAAGA', 'GCACTC', 'CCTAAT', 'TGATCG', 'TAACTN', 'ATGGAA', 'CTGTCT', 'TACCGC', 'GTTCAC', 'AGGGNN', 'TGGTTN', 'CTCTCT', 'TGGTGN', 'ATTACA', 'AAGGCG', 'CCCGGG', 'ATCCTN', 'CCAATT', 'CTCAGG', 'GGTGAG', 'CCTTTT', 'ATCATC', 'ATCAAT', 'CTTTCN', 'CGACAN', 'GGGAGT', 'AATTGT', 'ACGTGC', 'CCCACC', 'GGGGTN', 'TATAAG', 'GGGCAA', 'TAGCTT', 'TTTAAG', 'TGGGCT', 'CCANNN', 'TGANNN', 'CCCATG', 'GCCTTT', 'GACGTT', 'ATATCT', 'GGCTCG', 'GATGTG', 'GGAATT', 'GGAGGC', 'TTATGA', 'AGTCNN', 'GGCTCN', 'TTTGTA', 'TGCGCC', 'TAGGAG', 'CTCTGN', 'TTTTAA', 'GCGCAN', 'TAGTCT', 'GGTCTA', 'GTCACA', 'CTAGCC', 'AAACAC', 'GTACCA', 'CGGTTC', 'ATGTNN', 'CTAGAC', 'CTGTCG', 'CACTCA', 'GGCGGG', 'CGCAAT', 'GGATGC', 'ACAGNN', 'TATCCC', 'TTTATG', 'ACCTTG', 'GGTAAA', 'CGGGGC', 'GGGGTG', 'TCGTAT', 'TGGCCT', 'TGAGGT', 'ACACGN', 'TTGACN', 'TGGACT', 'TTCTCT', 'TATGTT', 'GATAGG', 'GGGATT', 'GGTACT', 'GGTTAN', 'TTGCNN', 'CTTATN', 'AAGGTN', 'ATATAG', 'GAAATT', 'TAATCG', 'TCTCCT', 'CCCCTC', 'GTCCAA', 'TTCNNN', 'GCCACA', 'TTATCT', 'GACTNN', 'TCCCCA', 'CGCCGT', 'CGTTTT', 'GGCTGG', 'ATATTN', 'CGTTGG', 'ACGATN', 'GAGGTC', 'CCTGCG', 'AGGTCC', 'AGTGGG', 'ACTTNN', 'GACTTG', 'CCGTGG', 'ACTAAT', 'TATATC', 'CCCTAG', 'AAGTCC', 'AGCTCG', 'GGACCC', 'GTCCTT', 'TTTTCN', 'TAGAAC', 'CGTAAC', 'TACTGN', 'ATTGTG', 'ATCTCA', 'AGCANN', 'ATTAAN', 'TACTGG', 'AGCGAT', 'TTTTTT', 'GCGAGG', 'AAAAAA', 'TCAGTN', 'TAGGTA', 'AAGTAA', 'TGTTCG', 'CCATCT', 'ACTTTN', 'ACTACT', 'GTCGTN', 'CGACGA', 'TCCCTA', 'CGCCTT', 'ACTTAC', 'TGCTTT', 'TTGAAT', 'GCCCAG', 'TTTCTG', 'TGGTAT', 'CTGGTT', 'AGTTCG', 'TCAGCC', 'TTTTCC', 'CCACCG', 'CCACGC', 'GGGGNN', 'TCTGTC', 'GTTAAG', 'CCTTCG', 'CGTTTN', 'CAGGGT', 'GGAGCC', 'TCGCAN', 'CCATGA', 'GTTACA', 'GCCTGC', 'AACTTT', 'CATAGA', 'GTCATG', 'TCCATT', 'GAATAA', 'GTACGG', 'AGTAGC', 'GTGATN', 'ATAAAC', 'GAACGC', 'GTATAG', 'TACGGT', 'TCTCNN', 'GATATA', 'GCTGGA', 'CAGGTG', 'TCTCCG', 'CAGTAG', 'AACTCA', 'TTTATT', 'TACGCC', 'TAGCAN', 'GGTGTA', 'GTAGAG', 'GGCGCA', 'CCTTGG', 'GGCATA', 'CCTACT', 'TGGCAG', 'CGTAGT', 'TATTGN', 'CGGTGN', 'ATTGNN', 'GTTATN', 'CGAGNN', 'CGAGTC', 'GCGACC', 'CTGGTN', 'TCTTTG', 'CGATAT', 'CTTANN', 'AAACNN', 'GTAAAT', 'GGCACC', 'GCATNN', 'GAGGCT', 'GGCGTT', 'CACGCC', 'ACCCAC', 'CATACC', 'AATTCT', 'CTGTGG', 'TACAAC', 'CGTTCN', 'CGTGTG', 'AATGGN', 'CAGGAN', 'ACTTTC', 'CGACTA', 'GAATTT', 'TTACAT', 'ACTGTG', 'CGCTTA', 'TCAATC', 'CTCCAC', 'GGATGT', 'AAACCG', 'GTTCCG', 'GCCAGC', 'TAAATA', 'CTCTAT', 'GCTNNN', 'GCTATT', 'TAGCAC', 'GGTCGG', 'TTGCGG', 'AACCCT', 'TGCAAC', 'AAATCG', 'ATGGGG', 'CAGCGT', 'TCGTGT', 'ACGCAN', 'TCTTNN', 'AGAAAA', 'ATAACC', 'GAGAAA', 'ACTGCC', 'CTATGC', 'AATTCA', 'TTATTA', 'ACGTTG', 'CAAGGN', 'CTCTNN', 'GCCTAT', 'TTCGTC', 'TAGACA', 'TAGGTT', 'GTAANN', 'TGTCAC', 'GCGAGN', 'TGGCAC', 'GCGCCN', 'ACCGCG', 'AGGGAA', 'CTTCCA', 'TTAAGA', 'AGGGCA', 'TGCTAN', 'GGAGCG', 'CTGGGN', 'ACCGAC', 'ACGGCT', 'GCCATA', 'TAGTAC', 'AGTCAN', 'GGTCTG', 'TAAATT', 'CAGTGA', 'ATCCGA', 'GCTTTN', 'TCCACG', 'AGTCAG', 'GTAGCT', 'TGCACG', 'GTACNN', 'ATTCAA', 'AGTCCA', 'ACTTAN', 'CGGCGN', 'ACTTGG', 'CCTTGC', 'ATGGTT', 'ACCCCG', 'CGGATT', 'CTATAC', 'AGTTCN', 'GTGATT', 'TAGCGN', 'CTGGAG', 'GGCACT', 'CCAGAN', 'AGCTCT', 'CGCCGN', 'ATAACA', 'ATGATT', 'AAGAAC', 'TTAACT', 'AGATCN', 'CTCTGA', 'TTTGGN', 'GTCTTT', 'GGCGCT', 'TGCCCG', 'TGGCCN', 'GGTTGT', 'AGATTT', 'CTCCTC', 'TTCTGG', 'TAACCC', 'AGTGGC', 'CGCTTC', 'AGAGGA', 'ATCGAA', 'GCGTTC', 'TACATN', 'CAAACN', 'ATATCN', 'CTGTNN', 'CATGAA', 'TGGAGC', 'CGCCNN', 'CCCTCA', 'CCAAGT', 'TGATAA', 'GCACCN', 'TTAGCT', 'TAGANN', 'CTCGTT', 'ACGTGN', 'TGGCGC', 'TCAGGA', 'TACTCN', 'AATGCT', 'ATGAGT', 'AGTTTA', 'CGTTTG', 'TCAGTC', 'AGTCGA', 'CGGACA', 'GTCCCC', 'AGATCT', 'TCGAGA', 'GCCGTG', 'GGACGC', 'TGGAAT', 'GATCNN', 'GGTAGG', 'AGTATA', 'GCTCTC', 'GAGCCC', 'TTCGCA', 'CGATGA', 'CTTACN'}\n"
     ]
    }
   ],
   "source": [
    "# obtaining keys to use in dictionary =\n",
    "import numpy as np\n",
    "\n",
    "def get_unique_items(kmer_list):\n",
    "    unique_items = set()\n",
    "    for item in kmer_list:\n",
    "        if isinstance(item, list):\n",
    "            unique_items.update(get_unique_items(item))\n",
    "        else:\n",
    "            unique_items.add(item)\n",
    "    return unique_items\n",
    "\n",
    "all_keys = get_unique_items(kmer_dict['GSE39271_S2_GFPi_CLAMP_IP']) # choose chip-seq dataset to process\n",
    "print(all_keys)"
   ]
  },
  {
   "cell_type": "code",
   "execution_count": 115,
   "metadata": {},
   "outputs": [
    {
     "name": "stdout",
     "output_type": "stream",
     "text": [
      "Number of Items in Dictionary: 5367\n"
     ]
    }
   ],
   "source": [
    "# constructing dictionary\n",
    "dna_dict = {}\n",
    "counter = 0 \n",
    "for i in all_keys:\n",
    "    dna_dict[i] = counter\n",
    "    counter+=1\n",
    "\n",
    "print(\"Number of Items in Dictionary:\",len(dna_dict))"
   ]
  },
  {
   "cell_type": "code",
   "execution_count": 116,
   "metadata": {},
   "outputs": [
    {
     "name": "stdout",
     "output_type": "stream",
     "text": [
      "Original Sequence: ['AGAGTG', 'GAGTGG', 'AGTGGT', 'GTGGTG', 'TGGTGC']\n",
      "Updated Sequence: [1014, 3346, 1775, 3234, 4927]\n"
     ]
    }
   ],
   "source": [
    "# replacing keys with values in the dataset\n",
    "print(\"Original Sequence:\",kmer_dict['GSE39271_S2_GFPi_CLAMP_IP'][0][0:5])\n",
    "\n",
    "def replace_values(kmer_list, kmer_dict):\n",
    "    \"\"\"\n",
    "    Given a nested list, replaces every item with the corresponding value in a dictionary.\n",
    "    \"\"\"\n",
    "    if isinstance(kmer_list, list):\n",
    "        return [replace_values(item, kmer_dict) for item in kmer_list]\n",
    "    elif kmer_list in kmer_dict:\n",
    "        return kmer_dict[kmer_list]\n",
    "    else:\n",
    "        return kmer_list\n",
    "\n",
    "seqs_out = replace_values(kmer_dict['GSE39271_S2_GFPi_CLAMP_IP'],dna_dict)\n",
    "print(\"Updated Sequence:\",seqs_out[0][0:5])"
   ]
  },
  {
   "cell_type": "markdown",
   "metadata": {},
   "source": [
    "# Dicitonaries with all info"
   ]
  },
  {
   "cell_type": "code",
   "execution_count": 118,
   "metadata": {},
   "outputs": [
    {
     "data": {
      "text/plain": [
       "dict_keys(['GSE39271_Kc_GFPi_CLAMP', 'GSE39271_S2_GFPi_CLAMP_IP', 'GSE39271_S2_MSL2i_CLAMP_IP'])"
      ]
     },
     "execution_count": 118,
     "metadata": {},
     "output_type": "execute_result"
    }
   ],
   "source": [
    "kmer_dict.keys()"
   ]
  },
  {
   "cell_type": "code",
   "execution_count": 123,
   "metadata": {},
   "outputs": [
    {
     "data": {
      "text/plain": [
       "['AAAGTC', 'AAGTCG', 'AGTCGT', 'GTCGTG', 'TCGTGT']"
      ]
     },
     "execution_count": 123,
     "metadata": {},
     "output_type": "execute_result"
    }
   ],
   "source": [
    "kmer_dict['GSE39271_Kc_GFPi_CLAMP'][0][0:5] "
   ]
  },
  {
   "cell_type": "code",
   "execution_count": 119,
   "metadata": {},
   "outputs": [
    {
     "data": {
      "text/plain": [
       "dict_keys(['GSE39271_Kc_GFPi_CLAMP', 'GSE39271_S2_GFPi_CLAMP_IP', 'GSE39271_S2_MSL2i_CLAMP_IP'])"
      ]
     },
     "execution_count": 119,
     "metadata": {},
     "output_type": "execute_result"
    }
   ],
   "source": [
    "dataset_peak_info.keys()"
   ]
  },
  {
   "cell_type": "code",
   "execution_count": 121,
   "metadata": {},
   "outputs": [
    {
     "data": {
      "text/html": [
       "<div>\n",
       "<style scoped>\n",
       "    .dataframe tbody tr th:only-of-type {\n",
       "        vertical-align: middle;\n",
       "    }\n",
       "\n",
       "    .dataframe tbody tr th {\n",
       "        vertical-align: top;\n",
       "    }\n",
       "\n",
       "    .dataframe thead th {\n",
       "        text-align: right;\n",
       "    }\n",
       "</style>\n",
       "<table border=\"1\" class=\"dataframe\">\n",
       "  <thead>\n",
       "    <tr style=\"text-align: right;\">\n",
       "      <th></th>\n",
       "      <th>prefix</th>\n",
       "      <th>chr</th>\n",
       "      <th>start</th>\n",
       "      <th>stop</th>\n",
       "      <th>seq_length</th>\n",
       "      <th>chrX_status</th>\n",
       "      <th>full_sequence</th>\n",
       "      <th>500bp_sequence</th>\n",
       "    </tr>\n",
       "  </thead>\n",
       "  <tbody>\n",
       "    <tr>\n",
       "      <th>0</th>\n",
       "      <td>GSE39271_Kc_GFPi_CLAMP</td>\n",
       "      <td>chr2L</td>\n",
       "      <td>66719</td>\n",
       "      <td>67472</td>\n",
       "      <td>753</td>\n",
       "      <td>False</td>\n",
       "      <td>AAAACCAGCCGACTACATTTACGCCATTGAGGCCACATGGATAGAG...</td>\n",
       "      <td>AAAGTCGTGTAAGTGTTTAATACAAGCAACAGTCAGGGAGCACGCA...</td>\n",
       "    </tr>\n",
       "    <tr>\n",
       "      <th>1</th>\n",
       "      <td>GSE39271_Kc_GFPi_CLAMP</td>\n",
       "      <td>chr2L</td>\n",
       "      <td>72315</td>\n",
       "      <td>72836</td>\n",
       "      <td>521</td>\n",
       "      <td>False</td>\n",
       "      <td>ATCTCGGGGTTGATAAAAAGTATTGAGCTATAGGTGGCCTCGGTCA...</td>\n",
       "      <td>TGATAAAAAGTATTGAGCTATAGGTGGCCTCGGTCAGGCCGGCATA...</td>\n",
       "    </tr>\n",
       "    <tr>\n",
       "      <th>2</th>\n",
       "      <td>GSE39271_Kc_GFPi_CLAMP</td>\n",
       "      <td>chr2L</td>\n",
       "      <td>72951</td>\n",
       "      <td>73468</td>\n",
       "      <td>517</td>\n",
       "      <td>False</td>\n",
       "      <td>AGGTGGTGGATGGAAATGAATTTAAAGTGCGTAATCGGGATACTAT...</td>\n",
       "      <td>GATGGAAATGAATTTAAAGTGCGTAATCGGGATACTATAGCGCAAA...</td>\n",
       "    </tr>\n",
       "    <tr>\n",
       "      <th>3</th>\n",
       "      <td>GSE39271_Kc_GFPi_CLAMP</td>\n",
       "      <td>chr2L</td>\n",
       "      <td>107829</td>\n",
       "      <td>108346</td>\n",
       "      <td>517</td>\n",
       "      <td>False</td>\n",
       "      <td>AAAACCACAGTGAGTATAAAATAAAGGATCTGGATCTAGATTCACT...</td>\n",
       "      <td>AGTGAGTATAAAATAAAGGATCTGGATCTAGATTCACTACAGTTCA...</td>\n",
       "    </tr>\n",
       "    <tr>\n",
       "      <th>4</th>\n",
       "      <td>GSE39271_Kc_GFPi_CLAMP</td>\n",
       "      <td>chr2L</td>\n",
       "      <td>109098</td>\n",
       "      <td>109448</td>\n",
       "      <td>350</td>\n",
       "      <td>False</td>\n",
       "      <td>ATTTGCACGACTTGAACAGAGGCTGAGAACGGGAAGAAGAGCTAGT...</td>\n",
       "      <td>ATTTGCACGACTTGAACAGAGGCTGAGAACGGGAAGAAGAGCTAGT...</td>\n",
       "    </tr>\n",
       "  </tbody>\n",
       "</table>\n",
       "</div>"
      ],
      "text/plain": [
       "                   prefix    chr   start    stop  seq_length  chrX_status  \\\n",
       "0  GSE39271_Kc_GFPi_CLAMP  chr2L   66719   67472         753        False   \n",
       "1  GSE39271_Kc_GFPi_CLAMP  chr2L   72315   72836         521        False   \n",
       "2  GSE39271_Kc_GFPi_CLAMP  chr2L   72951   73468         517        False   \n",
       "3  GSE39271_Kc_GFPi_CLAMP  chr2L  107829  108346         517        False   \n",
       "4  GSE39271_Kc_GFPi_CLAMP  chr2L  109098  109448         350        False   \n",
       "\n",
       "                                       full_sequence  \\\n",
       "0  AAAACCAGCCGACTACATTTACGCCATTGAGGCCACATGGATAGAG...   \n",
       "1  ATCTCGGGGTTGATAAAAAGTATTGAGCTATAGGTGGCCTCGGTCA...   \n",
       "2  AGGTGGTGGATGGAAATGAATTTAAAGTGCGTAATCGGGATACTAT...   \n",
       "3  AAAACCACAGTGAGTATAAAATAAAGGATCTGGATCTAGATTCACT...   \n",
       "4  ATTTGCACGACTTGAACAGAGGCTGAGAACGGGAAGAAGAGCTAGT...   \n",
       "\n",
       "                                      500bp_sequence  \n",
       "0  AAAGTCGTGTAAGTGTTTAATACAAGCAACAGTCAGGGAGCACGCA...  \n",
       "1  TGATAAAAAGTATTGAGCTATAGGTGGCCTCGGTCAGGCCGGCATA...  \n",
       "2  GATGGAAATGAATTTAAAGTGCGTAATCGGGATACTATAGCGCAAA...  \n",
       "3  AGTGAGTATAAAATAAAGGATCTGGATCTAGATTCACTACAGTTCA...  \n",
       "4  ATTTGCACGACTTGAACAGAGGCTGAGAACGGGAAGAAGAGCTAGT...  "
      ]
     },
     "execution_count": 121,
     "metadata": {},
     "output_type": "execute_result"
    }
   ],
   "source": [
    "dataset_peak_info['GSE39271_Kc_GFPi_CLAMP'].head()"
   ]
  }
 ],
 "metadata": {
  "kernelspec": {
   "display_name": "alive",
   "language": "python",
   "name": "python3"
  },
  "language_info": {
   "codemirror_mode": {
    "name": "ipython",
    "version": 3
   },
   "file_extension": ".py",
   "mimetype": "text/x-python",
   "name": "python",
   "nbconvert_exporter": "python",
   "pygments_lexer": "ipython3",
   "version": "3.10.13"
  }
 },
 "nbformat": 4,
 "nbformat_minor": 2
}
